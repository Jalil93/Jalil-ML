{
 "cells": [
  {
   "cell_type": "code",
   "execution_count": 1,
   "id": "initial_id",
   "metadata": {
    "collapsed": true,
    "ExecuteTime": {
     "end_time": "2023-10-07T05:04:50.377154300Z",
     "start_time": "2023-10-07T05:04:50.044477400Z"
    }
   },
   "outputs": [],
   "source": [
    "import numpy as np\n",
    "import pandas as pd\n",
    "import matplotlib.pyplot as plt\n",
    "import seaborn as sns\n",
    "from sklearn.model_selection import train_test_split\n",
    "import math"
   ]
  },
  {
   "cell_type": "code",
   "execution_count": 28,
   "outputs": [],
   "source": [
    "def gradient_descent_without_scikit(y_train_n, w_init, b_init, x_train_n, iterations, a):\n",
    "\n",
    "    m = x_train_n.shape[0]\n",
    "    dj_db_history = np.zeros(iterations)\n",
    "    dj_dw_history = np.zeros((iterations, w_init.size))\n",
    "    j_history = np.zeros(iterations)\n",
    "    y_pred_history = np.zeros((iterations,m))\n",
    "    w = w_init\n",
    "    b = b_init\n",
    "\n",
    "    y_pred = compute_y_pred(w, x_train_n, b)\n",
    "    for i in range(iterations):\n",
    "        dj_db, dj_dw = compute_gradient_1(y_pred, y_train_n, x_train_n)\n",
    "        # j_history[i] = compute_cost(y_pred, y_train_n)\n",
    "        dj_db_history[i] = dj_db\n",
    "        dj_dw_history[i] = dj_dw\n",
    "        b = b - a * dj_db\n",
    "        w = w - a * dj_dw\n",
    "        y_pred = compute_y_pred(w, x_train_n, b)\n",
    "        y_pred_history[i,:] = y_pred\n",
    "\n",
    "    return w, b, dj_dw_history, dj_db_history, j_history, y_pred_history\n",
    "\n",
    "def compute_gradient_1(y_pred, y_train_n, x_train_n):\n",
    "    m=y_pred.size\n",
    "    n=x_train_n.shape[1]\n",
    "    dj_dw = np.zeros(x_train_n.shape, dtype=float)\n",
    "    dj_db = np.zeros(m, dtype=float)\n",
    "    for i in range(m):\n",
    "        dj_db[i]=(y_pred[i]-y_train_n[i])\n",
    "        for j in range(n):\n",
    "            dj_dw[i, j] = ((y_pred[i] - y_train_n[i]) * x_train_n[i, j])\n",
    "\n",
    "    w_cost =np.zeros(n, dtype=float)\n",
    "    for i in range(n):\n",
    "        w_cost[i]=np.sum(dj_dw[:, i])\n",
    "\n",
    "    w_cost = w_cost / m\n",
    "    b_cost = np.sum(dj_db)/m\n",
    "    return b_cost, w_cost\n",
    "\n",
    "# def compute_gradient(y_pred, y_train, x_train):\n",
    "#     \n",
    "#     #Convert the pandas Dataframes to numpy Arrays to allow for easier manipulation. Indexing not possible in DF.  \n",
    "# #     y_pred : numpy array\n",
    "#     y_train_n = y_train.to_numpy(dtype=float)\n",
    "#     x_train_n = x_train.to_numpy(dtype=float) \n",
    "#     \n",
    "#     m=y_pred.size\n",
    "#     n=x_train_n.shape[1]\n",
    "#     dj_dw = np.zeros((x_train.shape), dtype=float)\n",
    "#     dj_db = np.zeros(m, dtype=float)\n",
    "#     for i in range(m):\n",
    "#         dj_db[i]=(y_pred[i]-y_train_n[i])\n",
    "#         for j in range(n): \n",
    "#             dj_dw[i, j] = ((y_pred[i] - y_train_n[i]) * x_train_n[i, j])\n",
    "#     \n",
    "#     w_cost =np.zeros(n, dtype=float)\n",
    "#     for i in range(n):\n",
    "#         w_cost[i]=np.sum(dj_dw[:, i])\n",
    "# \n",
    "#     w_cost = w_cost / m\n",
    "#     b_cost = np.sum(dj_db)/m\n",
    "#     return b_cost, w_cost\n",
    "\n",
    "def compute_cost(y_predicted, y_actual):\n",
    "    # both numpy arrays \n",
    "    sum_array = np.zeros(y_predicted.size, dtype=float)\n",
    "    for i in range(y_predicted.size):\n",
    "        if y_actual[i]==1:\n",
    "            sum_array[i]=-1*math.log(y_predicted[i])\n",
    "        if y_actual[i]==0:\n",
    "            sum_array[i]=-1*math.log(1-y_predicted[i])\n",
    "            \n",
    "    cost = np.sum(sum_array) / y_predicted.size\n",
    "    return cost\n",
    "\n",
    "def compute_y_pred(w, x, b):\n",
    "    m = x.shape[0]\n",
    "    y_pred = np.zeros(m)\n",
    "    for i in range(m):\n",
    "        y_pred[i] = 1 / (1 + np.exp(-1*np.dot(x[i], w)+b))\n",
    "    return y_pred"
   ],
   "metadata": {
    "collapsed": false,
    "ExecuteTime": {
     "end_time": "2023-10-07T05:51:17.445940200Z",
     "start_time": "2023-10-07T05:51:17.399064200Z"
    }
   },
   "id": "d43d2287713fa4db"
  },
  {
   "cell_type": "code",
   "execution_count": 41,
   "outputs": [
    {
     "data": {
      "text/plain": "      male  age  education  currentSmoker  cigsPerDay  BPMeds  \\\n0        1   39        4.0              0         0.0     0.0   \n1        0   46        2.0              0         0.0     0.0   \n2        1   48        1.0              1        20.0     0.0   \n3        0   61        3.0              1        30.0     0.0   \n4        0   46        3.0              1        23.0     0.0   \n...    ...  ...        ...            ...         ...     ...   \n4233     1   50        1.0              1         1.0     0.0   \n4234     1   51        3.0              1        43.0     0.0   \n4235     0   48        2.0              1        20.0     0.0   \n4236     0   44        1.0              1        15.0     0.0   \n4237     0   52        2.0              0         0.0     0.0   \n\n      prevalentStroke  prevalentHyp  diabetes  totChol  sysBP  diaBP    BMI  \\\n0                   0             0         0    195.0  106.0   70.0  26.97   \n1                   0             0         0    250.0  121.0   81.0  28.73   \n2                   0             0         0    245.0  127.5   80.0  25.34   \n3                   0             1         0    225.0  150.0   95.0  28.58   \n4                   0             0         0    285.0  130.0   84.0  23.10   \n...               ...           ...       ...      ...    ...    ...    ...   \n4233                0             1         0    313.0  179.0   92.0  25.97   \n4234                0             0         0    207.0  126.5   80.0  19.71   \n4235                0             0         0    248.0  131.0   72.0  22.00   \n4236                0             0         0    210.0  126.5   87.0  19.16   \n4237                0             0         0    269.0  133.5   83.0  21.47   \n\n      heartRate  glucose  TenYearCHD  \n0          80.0     77.0           0  \n1          95.0     76.0           0  \n2          75.0     70.0           0  \n3          65.0    103.0           1  \n4          85.0     85.0           0  \n...         ...      ...         ...  \n4233       66.0     86.0           1  \n4234       65.0     68.0           0  \n4235       84.0     86.0           0  \n4236       86.0      0.0           0  \n4237       80.0    107.0           0  \n\n[4238 rows x 16 columns]",
      "text/html": "<div>\n<style scoped>\n    .dataframe tbody tr th:only-of-type {\n        vertical-align: middle;\n    }\n\n    .dataframe tbody tr th {\n        vertical-align: top;\n    }\n\n    .dataframe thead th {\n        text-align: right;\n    }\n</style>\n<table border=\"1\" class=\"dataframe\">\n  <thead>\n    <tr style=\"text-align: right;\">\n      <th></th>\n      <th>male</th>\n      <th>age</th>\n      <th>education</th>\n      <th>currentSmoker</th>\n      <th>cigsPerDay</th>\n      <th>BPMeds</th>\n      <th>prevalentStroke</th>\n      <th>prevalentHyp</th>\n      <th>diabetes</th>\n      <th>totChol</th>\n      <th>sysBP</th>\n      <th>diaBP</th>\n      <th>BMI</th>\n      <th>heartRate</th>\n      <th>glucose</th>\n      <th>TenYearCHD</th>\n    </tr>\n  </thead>\n  <tbody>\n    <tr>\n      <th>0</th>\n      <td>1</td>\n      <td>39</td>\n      <td>4.0</td>\n      <td>0</td>\n      <td>0.0</td>\n      <td>0.0</td>\n      <td>0</td>\n      <td>0</td>\n      <td>0</td>\n      <td>195.0</td>\n      <td>106.0</td>\n      <td>70.0</td>\n      <td>26.97</td>\n      <td>80.0</td>\n      <td>77.0</td>\n      <td>0</td>\n    </tr>\n    <tr>\n      <th>1</th>\n      <td>0</td>\n      <td>46</td>\n      <td>2.0</td>\n      <td>0</td>\n      <td>0.0</td>\n      <td>0.0</td>\n      <td>0</td>\n      <td>0</td>\n      <td>0</td>\n      <td>250.0</td>\n      <td>121.0</td>\n      <td>81.0</td>\n      <td>28.73</td>\n      <td>95.0</td>\n      <td>76.0</td>\n      <td>0</td>\n    </tr>\n    <tr>\n      <th>2</th>\n      <td>1</td>\n      <td>48</td>\n      <td>1.0</td>\n      <td>1</td>\n      <td>20.0</td>\n      <td>0.0</td>\n      <td>0</td>\n      <td>0</td>\n      <td>0</td>\n      <td>245.0</td>\n      <td>127.5</td>\n      <td>80.0</td>\n      <td>25.34</td>\n      <td>75.0</td>\n      <td>70.0</td>\n      <td>0</td>\n    </tr>\n    <tr>\n      <th>3</th>\n      <td>0</td>\n      <td>61</td>\n      <td>3.0</td>\n      <td>1</td>\n      <td>30.0</td>\n      <td>0.0</td>\n      <td>0</td>\n      <td>1</td>\n      <td>0</td>\n      <td>225.0</td>\n      <td>150.0</td>\n      <td>95.0</td>\n      <td>28.58</td>\n      <td>65.0</td>\n      <td>103.0</td>\n      <td>1</td>\n    </tr>\n    <tr>\n      <th>4</th>\n      <td>0</td>\n      <td>46</td>\n      <td>3.0</td>\n      <td>1</td>\n      <td>23.0</td>\n      <td>0.0</td>\n      <td>0</td>\n      <td>0</td>\n      <td>0</td>\n      <td>285.0</td>\n      <td>130.0</td>\n      <td>84.0</td>\n      <td>23.10</td>\n      <td>85.0</td>\n      <td>85.0</td>\n      <td>0</td>\n    </tr>\n    <tr>\n      <th>...</th>\n      <td>...</td>\n      <td>...</td>\n      <td>...</td>\n      <td>...</td>\n      <td>...</td>\n      <td>...</td>\n      <td>...</td>\n      <td>...</td>\n      <td>...</td>\n      <td>...</td>\n      <td>...</td>\n      <td>...</td>\n      <td>...</td>\n      <td>...</td>\n      <td>...</td>\n      <td>...</td>\n    </tr>\n    <tr>\n      <th>4233</th>\n      <td>1</td>\n      <td>50</td>\n      <td>1.0</td>\n      <td>1</td>\n      <td>1.0</td>\n      <td>0.0</td>\n      <td>0</td>\n      <td>1</td>\n      <td>0</td>\n      <td>313.0</td>\n      <td>179.0</td>\n      <td>92.0</td>\n      <td>25.97</td>\n      <td>66.0</td>\n      <td>86.0</td>\n      <td>1</td>\n    </tr>\n    <tr>\n      <th>4234</th>\n      <td>1</td>\n      <td>51</td>\n      <td>3.0</td>\n      <td>1</td>\n      <td>43.0</td>\n      <td>0.0</td>\n      <td>0</td>\n      <td>0</td>\n      <td>0</td>\n      <td>207.0</td>\n      <td>126.5</td>\n      <td>80.0</td>\n      <td>19.71</td>\n      <td>65.0</td>\n      <td>68.0</td>\n      <td>0</td>\n    </tr>\n    <tr>\n      <th>4235</th>\n      <td>0</td>\n      <td>48</td>\n      <td>2.0</td>\n      <td>1</td>\n      <td>20.0</td>\n      <td>0.0</td>\n      <td>0</td>\n      <td>0</td>\n      <td>0</td>\n      <td>248.0</td>\n      <td>131.0</td>\n      <td>72.0</td>\n      <td>22.00</td>\n      <td>84.0</td>\n      <td>86.0</td>\n      <td>0</td>\n    </tr>\n    <tr>\n      <th>4236</th>\n      <td>0</td>\n      <td>44</td>\n      <td>1.0</td>\n      <td>1</td>\n      <td>15.0</td>\n      <td>0.0</td>\n      <td>0</td>\n      <td>0</td>\n      <td>0</td>\n      <td>210.0</td>\n      <td>126.5</td>\n      <td>87.0</td>\n      <td>19.16</td>\n      <td>86.0</td>\n      <td>0.0</td>\n      <td>0</td>\n    </tr>\n    <tr>\n      <th>4237</th>\n      <td>0</td>\n      <td>52</td>\n      <td>2.0</td>\n      <td>0</td>\n      <td>0.0</td>\n      <td>0.0</td>\n      <td>0</td>\n      <td>0</td>\n      <td>0</td>\n      <td>269.0</td>\n      <td>133.5</td>\n      <td>83.0</td>\n      <td>21.47</td>\n      <td>80.0</td>\n      <td>107.0</td>\n      <td>0</td>\n    </tr>\n  </tbody>\n</table>\n<p>4238 rows × 16 columns</p>\n</div>"
     },
     "execution_count": 41,
     "metadata": {},
     "output_type": "execute_result"
    }
   ],
   "source": [
    "df = pd.read_csv('datasets/framingham.csv')\n",
    "df.fillna(0)"
   ],
   "metadata": {
    "collapsed": false,
    "ExecuteTime": {
     "end_time": "2023-10-07T06:22:47.023473200Z",
     "start_time": "2023-10-07T06:22:46.960975300Z"
    }
   },
   "id": "9b6c9498e71bf13c"
  },
  {
   "cell_type": "code",
   "execution_count": 42,
   "outputs": [],
   "source": [
    "y = df['TenYearCHD']\n",
    "x = df.drop(['TenYearCHD'], axis=1)"
   ],
   "metadata": {
    "collapsed": false,
    "ExecuteTime": {
     "end_time": "2023-10-07T06:22:56.921756200Z",
     "start_time": "2023-10-07T06:22:56.906110800Z"
    }
   },
   "id": "9e7251e1d6a78656"
  },
  {
   "cell_type": "code",
   "execution_count": 43,
   "outputs": [],
   "source": [
    "x_train, x_test, y_train, y_test = train_test_split(x, y, test_size=0.2, random_state=100)\n"
   ],
   "metadata": {
    "collapsed": false,
    "ExecuteTime": {
     "end_time": "2023-10-07T06:22:57.544813400Z",
     "start_time": "2023-10-07T06:22:57.513527500Z"
    }
   },
   "id": "3b9b36a6eb00a018"
  },
  {
   "cell_type": "code",
   "execution_count": 44,
   "outputs": [],
   "source": [
    "x_train_n = x_train.to_numpy()\n",
    "x_test_n = x_test.to_numpy()\n",
    "y_train_n = y_train.to_numpy()\n",
    "y_test_n = y_test.to_numpy()"
   ],
   "metadata": {
    "collapsed": false,
    "ExecuteTime": {
     "end_time": "2023-10-07T06:22:57.963405400Z",
     "start_time": "2023-10-07T06:22:57.932142100Z"
    }
   },
   "id": "28bce87db4fb782b"
  },
  {
   "cell_type": "code",
   "execution_count": 45,
   "outputs": [
    {
     "data": {
      "text/plain": "array([1, 0, 0, ..., 0, 0, 0], dtype=int64)"
     },
     "execution_count": 45,
     "metadata": {},
     "output_type": "execute_result"
    }
   ],
   "source": [
    "y_train_n"
   ],
   "metadata": {
    "collapsed": false,
    "ExecuteTime": {
     "end_time": "2023-10-07T06:22:59.290646300Z",
     "start_time": "2023-10-07T06:22:59.212525900Z"
    }
   },
   "id": "f64cc0bb007cedf9"
  },
  {
   "cell_type": "code",
   "execution_count": 47,
   "outputs": [
    {
     "name": "stdout",
     "output_type": "stream",
     "text": [
      "the cost function decreased by nan It should decrease by 0.0001\n",
      "lowest cost using gradient descent is nan\n"
     ]
    }
   ],
   "source": [
    "m = x_train_n.shape[0]\n",
    "n = x_train_n.shape[1]\n",
    "w = np.zeros(n)\n",
    "# w = np.array([.55, 6.6, 7.8, 8.0])\n",
    "b = 0.0\n",
    "iterations = 100\n",
    "learning_rate = .0001\n",
    "\n",
    "w, b, dj_dw_history, dj_db_history, j_history, y_pred_history = gradient_descent_without_scikit(y_train_n, w, b, x_train_n, iterations, learning_rate)\n",
    "\n",
    "convergence_point = j_history[-1]\n",
    "gradient_w = dj_dw_history[-1]\n",
    "gradient_b = dj_db_history[-1]\n",
    "epsilon = j_history[-2] - j_history[-1]\n",
    "\n",
    "print(f\"the cost function decreased by {epsilon} \"\n",
    "      f\"It should decrease by {learning_rate}\")\n",
    "print(f\"lowest cost using gradient descent is {convergence_point}\")\n",
    "\n",
    "# expected = compute_cost(y_lr_train_pred, y_train_n)\n",
    "# print(f\"the expected cost using scikit LR is {expected}\")"
   ],
   "metadata": {
    "collapsed": false,
    "ExecuteTime": {
     "end_time": "2023-10-07T06:23:32.052262200Z",
     "start_time": "2023-10-07T06:23:22.435314Z"
    }
   },
   "id": "b18af058a18d5674"
  },
  {
   "cell_type": "code",
   "execution_count": 40,
   "outputs": [
    {
     "data": {
      "text/plain": "array([[  1.  ,  51.  ,   1.  , ...,  24.1 ,  60.  ,  73.  ],\n       [  0.  ,  48.  ,   1.  , ...,  22.51, 110.  ,  78.  ],\n       [  0.  ,  38.  ,   2.  , ...,  24.45,  75.  ,  90.  ],\n       ...,\n       [  0.  ,  45.  ,   3.  , ...,  22.86,  75.  ,  92.  ],\n       [  1.  ,  41.  ,   2.  , ...,  30.58,  85.  ,  65.  ],\n       [  0.  ,  61.  ,   1.  , ...,  51.28,  80.  , 103.  ]])"
     },
     "execution_count": 40,
     "metadata": {},
     "output_type": "execute_result"
    }
   ],
   "source": [
    "m = x_train_n.shape[0]\n",
    "n = x_train_n.shape[1]\n",
    "w = np.zeros(n)\n",
    "# w = np.array([.55, 6.6, 7.8, 8.0])\n",
    "b = 0.0\n",
    "y_pred = compute_y_pred(w, x_train_n, b)\n",
    "x_train_n"
   ],
   "metadata": {
    "collapsed": false,
    "ExecuteTime": {
     "end_time": "2023-10-07T06:22:28.350855700Z",
     "start_time": "2023-10-07T06:22:28.272735400Z"
    }
   },
   "id": "50d96bb55033c087"
  },
  {
   "cell_type": "code",
   "execution_count": 35,
   "outputs": [
    {
     "ename": "ValueError",
     "evalue": "math domain error",
     "output_type": "error",
     "traceback": [
      "\u001B[1;31m---------------------------------------------------------------------------\u001B[0m",
      "\u001B[1;31mValueError\u001B[0m                                Traceback (most recent call last)",
      "\u001B[1;32m~\\AppData\\Local\\Temp\\ipykernel_8960\\54960136.py\u001B[0m in \u001B[0;36m<module>\u001B[1;34m\u001B[0m\n\u001B[0;32m      1\u001B[0m \u001B[0ma\u001B[0m \u001B[1;33m=\u001B[0m \u001B[0mnp\u001B[0m\u001B[1;33m.\u001B[0m\u001B[0marray\u001B[0m\u001B[1;33m(\u001B[0m\u001B[1;33m[\u001B[0m\u001B[1;36m1\u001B[0m\u001B[1;33m,\u001B[0m \u001B[1;36m1\u001B[0m\u001B[1;33m,\u001B[0m \u001B[1;36m1\u001B[0m\u001B[1;33m]\u001B[0m\u001B[1;33m)\u001B[0m\u001B[1;33m\u001B[0m\u001B[1;33m\u001B[0m\u001B[0m\n\u001B[0;32m      2\u001B[0m \u001B[0mc\u001B[0m \u001B[1;33m=\u001B[0m \u001B[0mnp\u001B[0m\u001B[1;33m.\u001B[0m\u001B[0marray\u001B[0m\u001B[1;33m(\u001B[0m\u001B[1;33m[\u001B[0m\u001B[1;36m0\u001B[0m\u001B[1;33m,\u001B[0m \u001B[1;36m1\u001B[0m\u001B[1;33m,\u001B[0m \u001B[1;36m1\u001B[0m\u001B[1;33m]\u001B[0m\u001B[1;33m)\u001B[0m\u001B[1;33m\u001B[0m\u001B[1;33m\u001B[0m\u001B[0m\n\u001B[1;32m----> 3\u001B[1;33m \u001B[0mcompute_loss\u001B[0m\u001B[1;33m(\u001B[0m\u001B[0ma\u001B[0m\u001B[1;33m,\u001B[0m \u001B[0mc\u001B[0m\u001B[1;33m)\u001B[0m\u001B[1;33m\u001B[0m\u001B[1;33m\u001B[0m\u001B[0m\n\u001B[0m",
      "\u001B[1;32m~\\AppData\\Local\\Temp\\ipykernel_8960\\2371696520.py\u001B[0m in \u001B[0;36mcompute_loss\u001B[1;34m(y_predicted, y_actual)\u001B[0m\n\u001B[0;32m     71\u001B[0m             \u001B[0msum_array\u001B[0m\u001B[1;33m[\u001B[0m\u001B[0mi\u001B[0m\u001B[1;33m]\u001B[0m\u001B[1;33m=\u001B[0m\u001B[1;33m-\u001B[0m\u001B[1;36m1\u001B[0m\u001B[1;33m*\u001B[0m\u001B[0mmath\u001B[0m\u001B[1;33m.\u001B[0m\u001B[0mlog\u001B[0m\u001B[1;33m(\u001B[0m\u001B[0my_predicted\u001B[0m\u001B[1;33m[\u001B[0m\u001B[0mi\u001B[0m\u001B[1;33m]\u001B[0m\u001B[1;33m)\u001B[0m\u001B[1;33m\u001B[0m\u001B[1;33m\u001B[0m\u001B[0m\n\u001B[0;32m     72\u001B[0m         \u001B[1;32mif\u001B[0m \u001B[0my_actual\u001B[0m\u001B[1;33m[\u001B[0m\u001B[0mi\u001B[0m\u001B[1;33m]\u001B[0m\u001B[1;33m==\u001B[0m\u001B[1;36m0\u001B[0m\u001B[1;33m:\u001B[0m\u001B[1;33m\u001B[0m\u001B[1;33m\u001B[0m\u001B[0m\n\u001B[1;32m---> 73\u001B[1;33m             \u001B[0msum_array\u001B[0m\u001B[1;33m[\u001B[0m\u001B[0mi\u001B[0m\u001B[1;33m]\u001B[0m\u001B[1;33m=\u001B[0m\u001B[1;33m-\u001B[0m\u001B[1;36m1\u001B[0m\u001B[1;33m*\u001B[0m\u001B[0mmath\u001B[0m\u001B[1;33m.\u001B[0m\u001B[0mlog\u001B[0m\u001B[1;33m(\u001B[0m\u001B[1;36m1\u001B[0m\u001B[1;33m-\u001B[0m\u001B[0my_predicted\u001B[0m\u001B[1;33m[\u001B[0m\u001B[0mi\u001B[0m\u001B[1;33m]\u001B[0m\u001B[1;33m)\u001B[0m\u001B[1;33m\u001B[0m\u001B[1;33m\u001B[0m\u001B[0m\n\u001B[0m\u001B[0;32m     74\u001B[0m \u001B[1;33m\u001B[0m\u001B[0m\n\u001B[0;32m     75\u001B[0m     \u001B[0mcost\u001B[0m \u001B[1;33m=\u001B[0m \u001B[0mnp\u001B[0m\u001B[1;33m.\u001B[0m\u001B[0msum\u001B[0m\u001B[1;33m(\u001B[0m\u001B[0msum_array\u001B[0m\u001B[1;33m)\u001B[0m \u001B[1;33m/\u001B[0m \u001B[0my_predicted\u001B[0m\u001B[1;33m.\u001B[0m\u001B[0msize\u001B[0m\u001B[1;33m\u001B[0m\u001B[1;33m\u001B[0m\u001B[0m\n",
      "\u001B[1;31mValueError\u001B[0m: math domain error"
     ]
    }
   ],
   "source": [
    "a = np.array([1, 1, 1])\n",
    "c = np.array([0, 1, 1])\n",
    "compute_cost(a, c)"
   ],
   "metadata": {
    "collapsed": false,
    "ExecuteTime": {
     "end_time": "2023-10-07T05:53:37.504275Z",
     "start_time": "2023-10-07T05:53:37.457400600Z"
    }
   },
   "id": "d27f91776ba9db0e"
  },
  {
   "cell_type": "code",
   "execution_count": null,
   "outputs": [],
   "source": [],
   "metadata": {
    "collapsed": false
   },
   "id": "5d6557eeca34ad18"
  },
  {
   "cell_type": "code",
   "execution_count": null,
   "outputs": [],
   "source": [],
   "metadata": {
    "collapsed": false
   },
   "id": "e80816e864e72e91"
  },
  {
   "cell_type": "code",
   "execution_count": null,
   "outputs": [],
   "source": [],
   "metadata": {
    "collapsed": false
   },
   "id": "988f36b3d2645340"
  }
 ],
 "metadata": {
  "kernelspec": {
   "display_name": "Python 3",
   "language": "python",
   "name": "python3"
  },
  "language_info": {
   "codemirror_mode": {
    "name": "ipython",
    "version": 2
   },
   "file_extension": ".py",
   "mimetype": "text/x-python",
   "name": "python",
   "nbconvert_exporter": "python",
   "pygments_lexer": "ipython2",
   "version": "2.7.6"
  }
 },
 "nbformat": 4,
 "nbformat_minor": 5
}
