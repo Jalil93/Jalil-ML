{
 "cells": [
  {
   "cell_type": "code",
   "execution_count": 98,
   "id": "initial_id",
   "metadata": {
    "collapsed": true,
    "ExecuteTime": {
     "end_time": "2023-10-07T21:19:12.618406100Z",
     "start_time": "2023-10-07T21:19:12.502469900Z"
    }
   },
   "outputs": [],
   "source": [
    "import numpy as np\n",
    "import pandas as pd\n",
    "import matplotlib.pyplot as plt\n",
    "import seaborn as sns\n",
    "from sklearn.model_selection import train_test_split\n",
    "from sklearn.linear_model import LogisticRegression\n",
    "import math"
   ]
  },
  {
   "cell_type": "code",
   "execution_count": 92,
   "outputs": [],
   "source": [
    "def gradient_descent_without_scikit(y_train_n, w_init, b_init, x_train_n, iterations, a):\n",
    "\n",
    "    m = x_train_n.shape[0]\n",
    "    dj_db_history = np.zeros(iterations)\n",
    "    dj_dw_history = np.zeros((iterations, w_init.size))\n",
    "    j_history = np.zeros(iterations)\n",
    "    y_pred_history = np.zeros((iterations,m))\n",
    "    w = w_init\n",
    "    b = b_init\n",
    "\n",
    "    y_pred = compute_y_pred(w, x_train_n, b)\n",
    "    for i in range(iterations):\n",
    "        dj_db, dj_dw = compute_gradient_1(y_pred, y_train_n, x_train_n)\n",
    "        j_history[i] = compute_cost(y_pred, y_train_n)\n",
    "        dj_db_history[i] = dj_db\n",
    "        dj_dw_history[i] = dj_dw\n",
    "        b = b - a * dj_db\n",
    "        w = w - a * dj_dw\n",
    "        y_pred = compute_y_pred(w, x_train_n, b)\n",
    "        y_pred_history[i,:] = y_pred\n",
    "    y_final_pred = predict(y_pred_history[-1])\n",
    "    return w, b, y_final_pred, dj_dw_history, dj_db_history, j_history, y_pred_history\n",
    "\n",
    "def compute_gradient_1(y_pred, y_train_n, x_train_n):\n",
    "    m=y_pred.size\n",
    "    n=x_train_n.shape[1]\n",
    "    dj_dw = np.zeros(x_train_n.shape)\n",
    "    dj_db = np.zeros(m)\n",
    "    for i in range(m):\n",
    "        dj_db[i]=(y_pred[i]-y_train_n[i])\n",
    "        for j in range(n):\n",
    "            dj_dw[i, j] = ((y_pred[i] - y_train_n[i]) * x_train_n[i, j])\n",
    "\n",
    "    w_cost =np.zeros(n)\n",
    "    for i in range(n):\n",
    "        w_cost[i]=np.sum(dj_dw[:, i])\n",
    "\n",
    "    w_cost = w_cost / m\n",
    "    b_cost = np.sum(dj_db)/m\n",
    "    return b_cost, w_cost\n",
    "\n",
    "# def compute_gradient(y_pred, y_train, x_train):\n",
    "#     \n",
    "#     #Convert the pandas Dataframes to numpy Arrays to allow for easier manipulation. Indexing not possible in DF.  \n",
    "# #     y_pred : numpy array\n",
    "#     y_train_n = y_train.to_numpy(dtype=float)\n",
    "#     x_train_n = x_train.to_numpy(dtype=float) \n",
    "#     \n",
    "#     m=y_pred.size\n",
    "#     n=x_train_n.shape[1]\n",
    "#     dj_dw = np.zeros((x_train.shape), dtype=float)\n",
    "#     dj_db = np.zeros(m, dtype=float)\n",
    "#     for i in range(m):\n",
    "#         dj_db[i]=(y_pred[i]-y_train_n[i])\n",
    "#         for j in range(n): \n",
    "#             dj_dw[i, j] = ((y_pred[i] - y_train_n[i]) * x_train_n[i, j])\n",
    "#     \n",
    "#     w_cost =np.zeros(n, dtype=float)\n",
    "#     for i in range(n):\n",
    "#         w_cost[i]=np.sum(dj_dw[:, i])\n",
    "# \n",
    "#     w_cost = w_cost / m\n",
    "#     b_cost = np.sum(dj_db)/m\n",
    "#     return b_cost, w_cost\n",
    "\n",
    "def compute_cost(y_predicted, y_actual):\n",
    "    # both numpy arrays \n",
    "    loss = np.zeros(y_predicted.size)\n",
    "    for i in range(y_predicted.size):\n",
    "        loss[i]=(-1*y_actual[i]*math.log(y_predicted[i])) + (-1*(1-y_actual[i])*math.log(1-y_predicted[i]))\n",
    "                 \n",
    "    cost = np.sum(loss) / y_predicted.size\n",
    "    return cost\n",
    "\n",
    "def compute_y_pred(w, x, b):\n",
    "    m = x.shape[0]\n",
    "    y_pred = np.zeros(m)\n",
    "    for i in range(m):\n",
    "        z = np.dot(x[i], w)+b\n",
    "        y_pred[i] = 1 / (1 + np.exp(-1*z) )\n",
    "    return y_pred\n",
    "\n",
    "def predict(y_pred):\n",
    "    m = y_pred.size\n",
    "    y_result = np.zeros(m, dtype=int)\n",
    "    for i in range(m):\n",
    "        if y_pred[i]>=0.5:\n",
    "            y_result[i] = 1\n",
    "        else:\n",
    "            y_result[i] = 0\n",
    "    return y_result"
   ],
   "metadata": {
    "collapsed": false,
    "ExecuteTime": {
     "end_time": "2023-10-07T21:17:12.707176600Z",
     "start_time": "2023-10-07T21:17:12.629063800Z"
    }
   },
   "id": "d43d2287713fa4db"
  },
  {
   "cell_type": "code",
   "execution_count": 16,
   "outputs": [],
   "source": [
    "df = pd.read_csv('datasets/framingham.csv')"
   ],
   "metadata": {
    "collapsed": false,
    "ExecuteTime": {
     "end_time": "2023-10-07T20:30:09.716124Z",
     "start_time": "2023-10-07T20:30:09.653624700Z"
    }
   },
   "id": "9b6c9498e71bf13c"
  },
  {
   "cell_type": "code",
   "execution_count": 17,
   "outputs": [],
   "source": [
    "y = df['TenYearCHD']\n",
    "x = df.drop(['TenYearCHD'], axis=1)"
   ],
   "metadata": {
    "collapsed": false,
    "ExecuteTime": {
     "end_time": "2023-10-07T20:30:13.204137300Z",
     "start_time": "2023-10-07T20:30:13.172887500Z"
    }
   },
   "id": "9e7251e1d6a78656"
  },
  {
   "cell_type": "code",
   "execution_count": 29,
   "outputs": [
    {
     "data": {
      "text/plain": "0"
     },
     "execution_count": 29,
     "metadata": {},
     "output_type": "execute_result"
    }
   ],
   "source": [
    "y.isnull().sum()"
   ],
   "metadata": {
    "collapsed": false,
    "ExecuteTime": {
     "end_time": "2023-10-07T20:33:00.138856100Z",
     "start_time": "2023-10-07T20:33:00.076359700Z"
    }
   },
   "id": "20e7da2e326bac4"
  },
  {
   "cell_type": "code",
   "execution_count": 36,
   "outputs": [
    {
     "data": {
      "text/plain": "male                 0\nage                  0\neducation          105\ncurrentSmoker        0\ncigsPerDay          29\nBPMeds              53\nprevalentStroke      0\nprevalentHyp         0\ndiabetes             0\ntotChol             50\nsysBP                0\ndiaBP                0\nBMI                 19\nheartRate            1\nglucose            388\ndtype: int64"
     },
     "execution_count": 36,
     "metadata": {},
     "output_type": "execute_result"
    }
   ],
   "source": [
    "x.isnull().sum()"
   ],
   "metadata": {
    "collapsed": false,
    "ExecuteTime": {
     "end_time": "2023-10-07T20:36:00.667553800Z",
     "start_time": "2023-10-07T20:36:00.619890100Z"
    }
   },
   "id": "5f9a50c02df1ef19"
  },
  {
   "cell_type": "code",
   "execution_count": 38,
   "outputs": [],
   "source": [
    "x = x.fillna(0)"
   ],
   "metadata": {
    "collapsed": false,
    "ExecuteTime": {
     "end_time": "2023-10-07T20:36:11.556461700Z",
     "start_time": "2023-10-07T20:36:11.493967200Z"
    }
   },
   "id": "987320b71926ebd1"
  },
  {
   "cell_type": "code",
   "execution_count": 40,
   "outputs": [
    {
     "data": {
      "text/plain": "male               0\nage                0\neducation          0\ncurrentSmoker      0\ncigsPerDay         0\nBPMeds             0\nprevalentStroke    0\nprevalentHyp       0\ndiabetes           0\ntotChol            0\nsysBP              0\ndiaBP              0\nBMI                0\nheartRate          0\nglucose            0\ndtype: int64"
     },
     "execution_count": 40,
     "metadata": {},
     "output_type": "execute_result"
    }
   ],
   "source": [
    "x.isnull().sum()"
   ],
   "metadata": {
    "collapsed": false,
    "ExecuteTime": {
     "end_time": "2023-10-07T20:36:38.456268100Z",
     "start_time": "2023-10-07T20:36:38.424997500Z"
    }
   },
   "id": "d87940406f0865f8"
  },
  {
   "cell_type": "code",
   "execution_count": 41,
   "outputs": [],
   "source": [
    "x_train, x_test, y_train, y_test = train_test_split(x, y, test_size=0.2, random_state=100)\n"
   ],
   "metadata": {
    "collapsed": false,
    "ExecuteTime": {
     "end_time": "2023-10-07T20:36:45.441945600Z",
     "start_time": "2023-10-07T20:36:45.410677Z"
    }
   },
   "id": "3b9b36a6eb00a018"
  },
  {
   "cell_type": "code",
   "execution_count": 42,
   "outputs": [],
   "source": [
    "x_train_n = x_train.to_numpy()\n",
    "x_test_n = x_test.to_numpy()\n",
    "y_train_n = y_train.to_numpy()\n",
    "y_test_n = y_test.to_numpy()"
   ],
   "metadata": {
    "collapsed": false,
    "ExecuteTime": {
     "end_time": "2023-10-07T20:36:46.825048500Z",
     "start_time": "2023-10-07T20:36:46.809423500Z"
    }
   },
   "id": "28bce87db4fb782b"
  },
  {
   "cell_type": "code",
   "execution_count": 43,
   "outputs": [
    {
     "data": {
      "text/plain": "array([1, 0, 0, ..., 0, 0, 0], dtype=int64)"
     },
     "execution_count": 43,
     "metadata": {},
     "output_type": "execute_result"
    }
   ],
   "source": [
    "y_train_n"
   ],
   "metadata": {
    "collapsed": false,
    "ExecuteTime": {
     "end_time": "2023-10-07T20:36:47.696589700Z",
     "start_time": "2023-10-07T20:36:47.634095800Z"
    }
   },
   "id": "f64cc0bb007cedf9"
  },
  {
   "cell_type": "code",
   "execution_count": 93,
   "outputs": [
    {
     "name": "stdout",
     "output_type": "stream",
     "text": [
      "the cost function decreased by 0.00010510253052897767 It should decrease by 0.0001\n",
      "lowest cost using gradient descent is 0.4383396072769916\n"
     ]
    }
   ],
   "source": [
    "m = x_train_n.shape[0]\n",
    "n = x_train_n.shape[1]\n",
    "w = np.zeros(n)\n",
    "# w = np.array([.55, 6.6, 7.8, 8.0])\n",
    "b = 0.0\n",
    "iterations = 20\n",
    "learning_rate = .0001\n",
    "\n",
    "w, b, y_final_pred, dj_dw_history, dj_db_history, j_history, y_pred_history = gradient_descent_without_scikit(y_train_n, w, b, x_train_n, iterations, learning_rate)\n",
    "\n",
    "convergence_point = j_history[-1]\n",
    "gradient_w = dj_dw_history[-1]\n",
    "gradient_b = dj_db_history[-1]\n",
    "epsilon = j_history[-2] - j_history[-1]\n",
    "\n",
    "print(f\"the cost function decreased by {epsilon} \"\n",
    "      f\"It should decrease by {learning_rate}\")\n",
    "print(f\"lowest cost using gradient descent is {convergence_point}\")\n",
    "\n",
    "# expected = compute_cost(y_lr_train_pred, y_train_n)\n",
    "# print(f\"the expected cost using scikit LR is {expected}\")"
   ],
   "metadata": {
    "collapsed": false,
    "ExecuteTime": {
     "end_time": "2023-10-07T21:17:27.141602400Z",
     "start_time": "2023-10-07T21:17:23.175381700Z"
    }
   },
   "id": "b18af058a18d5674"
  },
  {
   "cell_type": "code",
   "execution_count": 94,
   "outputs": [
    {
     "data": {
      "text/plain": "[<matplotlib.lines.Line2D at 0x17039c05790>]"
     },
     "execution_count": 94,
     "metadata": {},
     "output_type": "execute_result"
    },
    {
     "data": {
      "text/plain": "<Figure size 640x480 with 1 Axes>",
      "image/png": "[encoded data removed]"
     },
     "metadata": {},
     "output_type": "display_data"
    }
   ],
   "source": [
    "# Set the y-axis label\n",
    "plt.ylabel('Cost J(w, b)')\n",
    "# Set the x-axis label\n",
    "plt.xlabel('No iterations')\n",
    "plt.plot(np.arange(iterations), j_history)"
   ],
   "metadata": {
    "collapsed": false,
    "ExecuteTime": {
     "end_time": "2023-10-07T21:17:32.467446600Z",
     "start_time": "2023-10-07T21:17:31.869569800Z"
    }
   },
   "id": "8c8f88f6eeb08c7c"
  },
  {
   "cell_type": "code",
   "execution_count": 95,
   "outputs": [
    {
     "data": {
      "text/plain": "array([ 5.90945239e-06, -5.42464772e-04, -1.25643550e-04, -1.97808174e-05,\n       -1.08755299e-04,  1.13142394e-05,  3.27293691e-06,  5.57371173e-05,\n        1.15578010e-05, -4.13871841e-03, -1.65201765e-03, -2.01538663e-03,\n       -9.32529327e-04, -2.91045324e-03, -4.19519994e-04])"
     },
     "execution_count": 95,
     "metadata": {},
     "output_type": "execute_result"
    }
   ],
   "source": [
    "w"
   ],
   "metadata": {
    "collapsed": false,
    "ExecuteTime": {
     "end_time": "2023-10-07T21:17:35.065480300Z",
     "start_time": "2023-10-07T21:17:35.018609500Z"
    }
   },
   "id": "7616b401e98a8f69"
  },
  {
   "cell_type": "code",
   "execution_count": 96,
   "outputs": [
    {
     "data": {
      "text/plain": "-4.339524547725321e-05"
     },
     "execution_count": 96,
     "metadata": {},
     "output_type": "execute_result"
    }
   ],
   "source": [
    "b"
   ],
   "metadata": {
    "collapsed": false,
    "ExecuteTime": {
     "end_time": "2023-10-07T21:17:36.786756600Z",
     "start_time": "2023-10-07T21:17:36.708636100Z"
    }
   },
   "id": "3d2675fdf536dc3e"
  },
  {
   "cell_type": "code",
   "execution_count": 97,
   "outputs": [
    {
     "data": {
      "text/plain": "array([0, 0, 0, ..., 0, 0, 0])"
     },
     "execution_count": 97,
     "metadata": {},
     "output_type": "execute_result"
    }
   ],
   "source": [
    "y_final_pred"
   ],
   "metadata": {
    "collapsed": false,
    "ExecuteTime": {
     "end_time": "2023-10-07T21:17:38.519478400Z",
     "start_time": "2023-10-07T21:17:38.472604800Z"
    }
   },
   "id": "ae8fe55885fe9f5e"
  },
  {
   "cell_type": "code",
   "execution_count": 99,
   "outputs": [
    {
     "name": "stdout",
     "output_type": "stream",
     "text": [
      "Train Accuracy: 85.014749\n"
     ]
    }
   ],
   "source": [
    "#Compute accuracy on our training set\n",
    "# p = predict(X_train, w,b)\n",
    "print('Train Accuracy: %f'%(np.mean(y_final_pred == y_train_n) * 100))"
   ],
   "metadata": {
    "collapsed": false,
    "ExecuteTime": {
     "end_time": "2023-10-07T21:22:27.821395100Z",
     "start_time": "2023-10-07T21:22:27.758894400Z"
    }
   },
   "id": "56e955eb36c2dd3d"
  },
  {
   "cell_type": "code",
   "execution_count": null,
   "outputs": [],
   "source": [],
   "metadata": {
    "collapsed": false
   },
   "id": "54ded01b686206dd"
  },
  {
   "cell_type": "code",
   "execution_count": null,
   "outputs": [],
   "source": [],
   "metadata": {
    "collapsed": false
   },
   "id": "edcc582b7cccf13d"
  },
  {
   "cell_type": "code",
   "execution_count": 56,
   "outputs": [
    {
     "data": {
      "text/plain": "array([0.5, 0.5, 0.5, ..., 0.5, 0.5, 0.5])"
     },
     "execution_count": 56,
     "metadata": {},
     "output_type": "execute_result"
    }
   ],
   "source": [
    "# TESTING compute_y_pred function\n",
    "m = x_train_n.shape[0]\n",
    "n = x_train_n.shape[1]\n",
    "w = np.zeros(n)\n",
    "# w = np.array([.55, 6.6, 7.8, 8.0])\n",
    "b = 0.0\n",
    "y_pred = compute_y_pred(w, x_train_n, b)\n",
    "y_pred"
   ],
   "metadata": {
    "collapsed": false,
    "ExecuteTime": {
     "end_time": "2023-10-07T20:47:24.329880500Z",
     "start_time": "2023-10-07T20:47:24.251759500Z"
    }
   },
   "id": "50d96bb55033c087"
  },
  {
   "cell_type": "code",
   "execution_count": 59,
   "outputs": [
    {
     "data": {
      "text/plain": "0.3087803559092188"
     },
     "execution_count": 59,
     "metadata": {},
     "output_type": "execute_result"
    }
   ],
   "source": [
    "# TESTING compute_cost function\n",
    "pred_test = np.array([.5, .88, .9])\n",
    "actual_test = np.array([0, 1, 1])\n",
    "compute_cost(pred_test, actual_test)"
   ],
   "metadata": {
    "collapsed": false,
    "ExecuteTime": {
     "end_time": "2023-10-07T20:51:13.403249300Z",
     "start_time": "2023-10-07T20:51:13.378264600Z"
    }
   },
   "id": "d27f91776ba9db0e"
  },
  {
   "cell_type": "code",
   "execution_count": null,
   "outputs": [],
   "source": [],
   "metadata": {
    "collapsed": false
   },
   "id": "5d6557eeca34ad18"
  },
  {
   "cell_type": "code",
   "execution_count": null,
   "outputs": [],
   "source": [],
   "metadata": {
    "collapsed": false
   },
   "id": "e80816e864e72e91"
  },
  {
   "cell_type": "code",
   "execution_count": null,
   "outputs": [],
   "source": [],
   "metadata": {
    "collapsed": false
   },
   "id": "988f36b3d2645340"
  }
 ],
 "metadata": {
  "kernelspec": {
   "display_name": "Python 3",
   "language": "python",
   "name": "python3"
  },
  "language_info": {
   "codemirror_mode": {
    "name": "ipython",
    "version": 2
   },
   "file_extension": ".py",
   "mimetype": "text/x-python",
   "name": "python",
   "nbconvert_exporter": "python",
   "pygments_lexer": "ipython2",
   "version": "2.7.6"
  }
 },
 "nbformat": 4,
 "nbformat_minor": 5
}
