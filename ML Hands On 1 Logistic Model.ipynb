{
 "cells": [
  {
   "cell_type": "code",
   "execution_count": 2,
   "id": "initial_id",
   "metadata": {
    "collapsed": true,
    "ExecuteTime": {
     "end_time": "2023-10-04T02:27:22.758538100Z",
     "start_time": "2023-10-04T02:27:22.472903800Z"
    }
   },
   "outputs": [],
   "source": [
    "import numpy as np\n",
    "import pandas as pd\n",
    "import matplotlib.pyplot as plt\n",
    "import seaborn as sns\n",
    "from sklearn.model_selection import train_test_split"
   ]
  },
  {
   "cell_type": "code",
   "execution_count": null,
   "outputs": [],
   "source": [
    "def gradient_descent_without_scikit(y_train_n, w_init, b_init, x_train_n, iterations, a):\n",
    "\n",
    "    m = x_train_n.shape[0]\n",
    "    dj_db_history = np.zeros(iterations, dtype=float)\n",
    "    dj_dw_history = np.zeros((iterations, w_init.size), dtype=float)\n",
    "    j_history = np.zeros(iterations, dtype=float)\n",
    "    y_pred_history = np.zeros((iterations,m), dtype=float)\n",
    "    w = w_init\n",
    "    b = b_init\n",
    "\n",
    "    y_pred = compute_y_pred(w, x_train_n, b)\n",
    "    for i in range(iterations):\n",
    "        dj_db, dj_dw = compute_gradient_1(y_pred, y_train_n, x_train_n)\n",
    "        j_history[i] = compute_cost(y_pred, y_train_n)\n",
    "        dj_db_history[i] = dj_db\n",
    "        dj_dw_history[i] = dj_dw\n",
    "        b = b - a * dj_db\n",
    "        w = w - a * dj_dw\n",
    "        y_pred = compute_y_pred(w, x_train_n, b)\n",
    "        y_pred_history[i,:] = y_pred\n",
    "\n",
    "    return w, b, dj_dw_history, dj_db_history, j_history, y_pred_history\n",
    "\n",
    "def compute_gradient_1(y_pred, y_train_n, x_train_n):\n",
    "    m=y_pred.size\n",
    "    n=x_train_n.shape[1]\n",
    "    dj_dw = np.zeros(x_train_n.shape, dtype=float)\n",
    "    dj_db = np.zeros(m, dtype=float)\n",
    "    for i in range(m):\n",
    "        dj_db[i]=(y_pred[i]-y_train_n[i])\n",
    "        for j in range(n):\n",
    "            dj_dw[i, j] = ((y_pred[i] - y_train_n[i]) * x_train_n[i, j])\n",
    "\n",
    "    w_cost =np.zeros(n, dtype=float)\n",
    "    for i in range(n):\n",
    "        w_cost[i]=np.sum(dj_dw[:, i])\n",
    "\n",
    "    w_cost = w_cost / m\n",
    "    b_cost = np.sum(dj_db)/m\n",
    "    return b_cost, w_cost\n",
    "\n",
    "# def compute_gradient(y_pred, y_train, x_train):\n",
    "#     \n",
    "#     #Convert the pandas Dataframes to numpy Arrays to allow for easier manipulation. Indexing not possible in DF.  \n",
    "# #     y_pred : numpy array\n",
    "#     y_train_n = y_train.to_numpy(dtype=float)\n",
    "#     x_train_n = x_train.to_numpy(dtype=float) \n",
    "#     \n",
    "#     m=y_pred.size\n",
    "#     n=x_train_n.shape[1]\n",
    "#     dj_dw = np.zeros((x_train.shape), dtype=float)\n",
    "#     dj_db = np.zeros(m, dtype=float)\n",
    "#     for i in range(m):\n",
    "#         dj_db[i]=(y_pred[i]-y_train_n[i])\n",
    "#         for j in range(n): \n",
    "#             dj_dw[i, j] = ((y_pred[i] - y_train_n[i]) * x_train_n[i, j])\n",
    "#     \n",
    "#     w_cost =np.zeros(n, dtype=float)\n",
    "#     for i in range(n):\n",
    "#         w_cost[i]=np.sum(dj_dw[:, i])\n",
    "# \n",
    "#     w_cost = w_cost / m\n",
    "#     b_cost = np.sum(dj_db)/m\n",
    "#     return b_cost, w_cost\n",
    "\n",
    "def compute_cost(y_predicted, y_actual):\n",
    "    # both numpy arrays \n",
    "    sum_array = np.zeros(y_predicted.size, dtype=float)\n",
    "    for i in range(y_predicted.size):\n",
    "        if(y_actual[i]==1):\n",
    "            sum_array[i] = (y_predicted[i]-y_actual[i])**2\n",
    "        if(y_actual[i]==0):\n",
    "            \n",
    "        \n",
    "    cost = np.sum(sum_array)/(2*y_predicted.size)\n",
    "    return cost\n",
    "\n",
    "def compute_y_pred(w, x, b):\n",
    "    m = x.shape[0]\n",
    "    y_pred = np.zeros(m)\n",
    "    for i in range(m):\n",
    "        y_pred[i] = 1 / (1 + np.exp(-1*np.dot(x[i], w)+b))\n",
    "    return y_pred"
   ],
   "metadata": {
    "collapsed": false
   },
   "id": "d43d2287713fa4db"
  },
  {
   "cell_type": "code",
   "execution_count": null,
   "outputs": [],
   "source": [],
   "metadata": {
    "collapsed": false
   },
   "id": "b18af058a18d5674"
  },
  {
   "cell_type": "code",
   "execution_count": null,
   "outputs": [],
   "source": [],
   "metadata": {
    "collapsed": false
   },
   "id": "d27f91776ba9db0e"
  },
  {
   "cell_type": "code",
   "execution_count": null,
   "outputs": [],
   "source": [],
   "metadata": {
    "collapsed": false
   },
   "id": "5d6557eeca34ad18"
  },
  {
   "cell_type": "code",
   "execution_count": null,
   "outputs": [],
   "source": [],
   "metadata": {
    "collapsed": false
   },
   "id": "e80816e864e72e91"
  },
  {
   "cell_type": "code",
   "execution_count": null,
   "outputs": [],
   "source": [],
   "metadata": {
    "collapsed": false
   },
   "id": "988f36b3d2645340"
  }
 ],
 "metadata": {
  "kernelspec": {
   "display_name": "Python 3",
   "language": "python",
   "name": "python3"
  },
  "language_info": {
   "codemirror_mode": {
    "name": "ipython",
    "version": 2
   },
   "file_extension": ".py",
   "mimetype": "text/x-python",
   "name": "python",
   "nbconvert_exporter": "python",
   "pygments_lexer": "ipython2",
   "version": "2.7.6"
  }
 },
 "nbformat": 4,
 "nbformat_minor": 5
}
