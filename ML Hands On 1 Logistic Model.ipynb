{
 "cells": [
  {
   "cell_type": "markdown",
   "source": [
    "# Logistic Regression Model 1 #"
   ],
   "metadata": {
    "collapsed": false
   },
   "id": "1124a4376d364cbc"
  },
  {
   "cell_type": "markdown",
   "source": [
    "## Import Libraries ##"
   ],
   "metadata": {
    "collapsed": false
   },
   "id": "6c40fdfa33fec0b0"
  },
  {
   "cell_type": "code",
   "execution_count": 98,
   "id": "initial_id",
   "metadata": {
    "collapsed": true,
    "ExecuteTime": {
     "end_time": "2023-10-07T21:19:12.618406100Z",
     "start_time": "2023-10-07T21:19:12.502469900Z"
    }
   },
   "outputs": [],
   "source": [
    "import numpy as np\n",
    "import pandas as pd\n",
    "import matplotlib.pyplot as plt\n",
    "import seaborn as sns\n",
    "from sklearn.model_selection import train_test_split\n",
    "from sklearn.linear_model import LogisticRegression\n",
    "import math"
   ]
  },
  {
   "cell_type": "markdown",
   "source": [
    "## Model and Gradient Descent Algorithm Code ## "
   ],
   "metadata": {
    "collapsed": false
   },
   "id": "e5a781ac62f9b6db"
  },
  {
   "cell_type": "code",
   "execution_count": 92,
   "outputs": [],
   "source": [
    "def gradient_descent_without_scikit(y_train_n, w_init, b_init, x_train_n, iterations, a):\n",
    "\n",
    "    m = x_train_n.shape[0]\n",
    "    dj_db_history = np.zeros(iterations)\n",
    "    dj_dw_history = np.zeros((iterations, w_init.size))\n",
    "    j_history = np.zeros(iterations)\n",
    "    y_pred_history = np.zeros((iterations,m))\n",
    "    w = w_init\n",
    "    b = b_init\n",
    "\n",
    "    y_pred = compute_y_pred(w, x_train_n, b)\n",
    "    for i in range(iterations):\n",
    "        dj_db, dj_dw = compute_gradient_1(y_pred, y_train_n, x_train_n)\n",
    "        j_history[i] = compute_cost(y_pred, y_train_n)\n",
    "        dj_db_history[i] = dj_db\n",
    "        dj_dw_history[i] = dj_dw\n",
    "        b = b - a * dj_db\n",
    "        w = w - a * dj_dw\n",
    "        y_pred = compute_y_pred(w, x_train_n, b)\n",
    "        y_pred_history[i,:] = y_pred\n",
    "    y_final_pred = predict(y_pred_history[-1])\n",
    "    return w, b, y_final_pred, dj_dw_history, dj_db_history, j_history, y_pred_history\n",
    "\n",
    "def compute_gradient_1(y_pred, y_train_n, x_train_n):\n",
    "    m=y_pred.size\n",
    "    n=x_train_n.shape[1]\n",
    "    dj_dw = np.zeros(x_train_n.shape)\n",
    "    dj_db = np.zeros(m)\n",
    "    for i in range(m):\n",
    "        dj_db[i]=(y_pred[i]-y_train_n[i])\n",
    "        for j in range(n):\n",
    "            dj_dw[i, j] = ((y_pred[i] - y_train_n[i]) * x_train_n[i, j])\n",
    "\n",
    "    w_cost =np.zeros(n)\n",
    "    for i in range(n):\n",
    "        w_cost[i]=np.sum(dj_dw[:, i])\n",
    "\n",
    "    w_cost = w_cost / m\n",
    "    b_cost = np.sum(dj_db)/m\n",
    "    return b_cost, w_cost\n",
    "\n",
    "\n",
    "def compute_cost(y_predicted, y_actual):\n",
    "    # both numpy arrays \n",
    "    loss = np.zeros(y_predicted.size)\n",
    "    for i in range(y_predicted.size):\n",
    "        loss[i]=(-1*y_actual[i]*math.log(y_predicted[i])) + (-1*(1-y_actual[i])*math.log(1-y_predicted[i]))\n",
    "                 \n",
    "    cost = np.sum(loss) / y_predicted.size\n",
    "    return cost\n",
    "\n",
    "\n",
    "def compute_y_pred(w, x, b):\n",
    "    m = x.shape[0]\n",
    "    y_pred = np.zeros(m)\n",
    "    for i in range(m):\n",
    "        z = np.dot(x[i], w)+b\n",
    "        y_pred[i] = 1 / (1 + np.exp(-1*z) )\n",
    "    return y_pred\n",
    "\n",
    "\n",
    "def predict(y_pred):\n",
    "    m = y_pred.size\n",
    "    y_result = np.zeros(m, dtype=int)\n",
    "    for i in range(m):\n",
    "        if y_pred[i]>=0.5:\n",
    "            y_result[i] = 1\n",
    "        else:\n",
    "            y_result[i] = 0\n",
    "    return y_result"
   ],
   "metadata": {
    "collapsed": false,
    "ExecuteTime": {
     "end_time": "2023-10-07T21:17:12.707176600Z",
     "start_time": "2023-10-07T21:17:12.629063800Z"
    }
   },
   "id": "d43d2287713fa4db"
  },
  {
   "cell_type": "markdown",
   "source": [
    "## Importing Data and Removing Nulls ##"
   ],
   "metadata": {
    "collapsed": false
   },
   "id": "8614086926c112ca"
  },
  {
   "cell_type": "code",
   "execution_count": 16,
   "outputs": [],
   "source": [
    "df = pd.read_csv('datasets/framingham.csv')"
   ],
   "metadata": {
    "collapsed": false,
    "ExecuteTime": {
     "end_time": "2023-10-07T20:30:09.716124Z",
     "start_time": "2023-10-07T20:30:09.653624700Z"
    }
   },
   "id": "9b6c9498e71bf13c"
  },
  {
   "cell_type": "code",
   "execution_count": 17,
   "outputs": [],
   "source": [
    "y = df['TenYearCHD']\n",
    "x = df.drop(['TenYearCHD'], axis=1)"
   ],
   "metadata": {
    "collapsed": false,
    "ExecuteTime": {
     "end_time": "2023-10-07T20:30:13.204137300Z",
     "start_time": "2023-10-07T20:30:13.172887500Z"
    }
   },
   "id": "9e7251e1d6a78656"
  },
  {
   "cell_type": "code",
   "execution_count": 29,
   "outputs": [
    {
     "data": {
      "text/plain": "0"
     },
     "execution_count": 29,
     "metadata": {},
     "output_type": "execute_result"
    }
   ],
   "source": [
    "y.isnull().sum()"
   ],
   "metadata": {
    "collapsed": false,
    "ExecuteTime": {
     "end_time": "2023-10-07T20:33:00.138856100Z",
     "start_time": "2023-10-07T20:33:00.076359700Z"
    }
   },
   "id": "20e7da2e326bac4"
  },
  {
   "cell_type": "code",
   "execution_count": 36,
   "outputs": [
    {
     "data": {
      "text/plain": "male                 0\nage                  0\neducation          105\ncurrentSmoker        0\ncigsPerDay          29\nBPMeds              53\nprevalentStroke      0\nprevalentHyp         0\ndiabetes             0\ntotChol             50\nsysBP                0\ndiaBP                0\nBMI                 19\nheartRate            1\nglucose            388\ndtype: int64"
     },
     "execution_count": 36,
     "metadata": {},
     "output_type": "execute_result"
    }
   ],
   "source": [
    "x.isnull().sum()"
   ],
   "metadata": {
    "collapsed": false,
    "ExecuteTime": {
     "end_time": "2023-10-07T20:36:00.667553800Z",
     "start_time": "2023-10-07T20:36:00.619890100Z"
    }
   },
   "id": "5f9a50c02df1ef19"
  },
  {
   "cell_type": "code",
   "execution_count": 38,
   "outputs": [],
   "source": [
    "x = x.fillna(0)"
   ],
   "metadata": {
    "collapsed": false,
    "ExecuteTime": {
     "end_time": "2023-10-07T20:36:11.556461700Z",
     "start_time": "2023-10-07T20:36:11.493967200Z"
    }
   },
   "id": "987320b71926ebd1"
  },
  {
   "cell_type": "code",
   "execution_count": 40,
   "outputs": [
    {
     "data": {
      "text/plain": "male               0\nage                0\neducation          0\ncurrentSmoker      0\ncigsPerDay         0\nBPMeds             0\nprevalentStroke    0\nprevalentHyp       0\ndiabetes           0\ntotChol            0\nsysBP              0\ndiaBP              0\nBMI                0\nheartRate          0\nglucose            0\ndtype: int64"
     },
     "execution_count": 40,
     "metadata": {},
     "output_type": "execute_result"
    }
   ],
   "source": [
    "x.isnull().sum()"
   ],
   "metadata": {
    "collapsed": false,
    "ExecuteTime": {
     "end_time": "2023-10-07T20:36:38.456268100Z",
     "start_time": "2023-10-07T20:36:38.424997500Z"
    }
   },
   "id": "d87940406f0865f8"
  },
  {
   "cell_type": "markdown",
   "source": [
    "## Split Data and Convert to Numpy Arrays ##"
   ],
   "metadata": {
    "collapsed": false
   },
   "id": "47b9516af8637fa3"
  },
  {
   "cell_type": "code",
   "execution_count": 41,
   "outputs": [],
   "source": [
    "x_train, x_test, y_train, y_test = train_test_split(x, y, test_size=0.2, random_state=100)\n"
   ],
   "metadata": {
    "collapsed": false,
    "ExecuteTime": {
     "end_time": "2023-10-07T20:36:45.441945600Z",
     "start_time": "2023-10-07T20:36:45.410677Z"
    }
   },
   "id": "3b9b36a6eb00a018"
  },
  {
   "cell_type": "code",
   "execution_count": 42,
   "outputs": [],
   "source": [
    "x_train_n = x_train.to_numpy()\n",
    "x_test_n = x_test.to_numpy()\n",
    "y_train_n = y_train.to_numpy()\n",
    "y_test_n = y_test.to_numpy()"
   ],
   "metadata": {
    "collapsed": false,
    "ExecuteTime": {
     "end_time": "2023-10-07T20:36:46.825048500Z",
     "start_time": "2023-10-07T20:36:46.809423500Z"
    }
   },
   "id": "28bce87db4fb782b"
  },
  {
   "cell_type": "code",
   "execution_count": 43,
   "outputs": [
    {
     "data": {
      "text/plain": "array([1, 0, 0, ..., 0, 0, 0], dtype=int64)"
     },
     "execution_count": 43,
     "metadata": {},
     "output_type": "execute_result"
    }
   ],
   "source": [
    "y_train_n"
   ],
   "metadata": {
    "collapsed": false,
    "ExecuteTime": {
     "end_time": "2023-10-07T20:36:47.696589700Z",
     "start_time": "2023-10-07T20:36:47.634095800Z"
    }
   },
   "id": "f64cc0bb007cedf9"
  },
  {
   "cell_type": "markdown",
   "source": [
    "## Run Logistic Regression Model ##"
   ],
   "metadata": {
    "collapsed": false
   },
   "id": "abcf2b036a385e27"
  },
  {
   "cell_type": "code",
   "execution_count": 104,
   "outputs": [
    {
     "name": "stdout",
     "output_type": "stream",
     "text": [
      "the cost function decreased by 8.531128283034706e-05 It should decrease by 0.0001\n",
      "lowest cost using gradient descent is 0.43551475836120984\n"
     ]
    }
   ],
   "source": [
    "m = x_train_n.shape[0]\n",
    "n = x_train_n.shape[1]\n",
    "w = np.zeros(n)\n",
    "# w = np.array([.55, 6.6, 7.8, 8.0])\n",
    "b = 0.0\n",
    "iterations = 50\n",
    "learning_rate = .0001\n",
    "\n",
    "w, b, y_final_pred, dj_dw_history, dj_db_history, j_history, y_pred_history = gradient_descent_without_scikit(y_train_n, w, b, x_train_n, iterations, learning_rate)\n",
    "\n",
    "convergence_point = j_history[-1]\n",
    "gradient_w = dj_dw_history[-1]\n",
    "gradient_b = dj_db_history[-1]\n",
    "epsilon = j_history[-2] - j_history[-1]\n",
    "\n",
    "print(f\"the cost function decreased by {epsilon} \"\n",
    "      f\"It should decrease by {learning_rate}\")\n",
    "print(f\"lowest cost using gradient descent is {convergence_point}\")\n",
    "\n",
    "# expected = compute_cost(y_lr_train_pred, y_train_n)\n",
    "# print(f\"the expected cost using scikit LR is {expected}\")"
   ],
   "metadata": {
    "collapsed": false,
    "ExecuteTime": {
     "end_time": "2023-10-07T22:01:30.094895800Z",
     "start_time": "2023-10-07T22:01:24.146611300Z"
    }
   },
   "id": "b18af058a18d5674"
  },
  {
   "cell_type": "code",
   "execution_count": 105,
   "outputs": [
    {
     "data": {
      "text/plain": "[<matplotlib.lines.Line2D at 0x1703ae8b6d0>]"
     },
     "execution_count": 105,
     "metadata": {},
     "output_type": "execute_result"
    },
    {
     "data": {
      "text/plain": "<Figure size 640x480 with 1 Axes>",
      "image/png": "[encoded data removed]"
     },
     "metadata": {},
     "output_type": "display_data"
    }
   ],
   "source": [
    "# Set the y-axis label\n",
    "plt.ylabel('Cost J(w, b)')\n",
    "# Set the x-axis label\n",
    "plt.xlabel('No iterations')\n",
    "plt.plot(np.arange(iterations), j_history)"
   ],
   "metadata": {
    "collapsed": false,
    "ExecuteTime": {
     "end_time": "2023-10-07T22:01:36.073172400Z",
     "start_time": "2023-10-07T22:01:35.800273700Z"
    }
   },
   "id": "8c8f88f6eeb08c7c"
  },
  {
   "cell_type": "code",
   "execution_count": 106,
   "outputs": [
    {
     "data": {
      "text/plain": "array([ 2.50040653e-05, -6.38586342e-05, -2.63081517e-04, -3.58069191e-05,\n       -2.08506844e-05,  2.90188602e-05,  8.29408457e-06,  1.47354690e-04,\n        2.88453157e-05, -4.03383682e-03, -6.53493513e-04, -2.82415860e-03,\n       -1.64659158e-03, -5.15267260e-03,  5.54135156e-04])"
     },
     "execution_count": 106,
     "metadata": {},
     "output_type": "execute_result"
    }
   ],
   "source": [
    "w"
   ],
   "metadata": {
    "collapsed": false,
    "ExecuteTime": {
     "end_time": "2023-10-07T22:01:39.726542500Z",
     "start_time": "2023-10-07T22:01:39.695275400Z"
    }
   },
   "id": "7616b401e98a8f69"
  },
  {
   "cell_type": "code",
   "execution_count": 107,
   "outputs": [
    {
     "data": {
      "text/plain": "-8.198659193762019e-05"
     },
     "execution_count": 107,
     "metadata": {},
     "output_type": "execute_result"
    }
   ],
   "source": [
    "b"
   ],
   "metadata": {
    "collapsed": false,
    "ExecuteTime": {
     "end_time": "2023-10-07T22:01:41.315198500Z",
     "start_time": "2023-10-07T22:01:41.283951100Z"
    }
   },
   "id": "3d2675fdf536dc3e"
  },
  {
   "cell_type": "code",
   "execution_count": 108,
   "outputs": [
    {
     "data": {
      "text/plain": "array([0, 0, 0, ..., 0, 0, 0])"
     },
     "execution_count": 108,
     "metadata": {},
     "output_type": "execute_result"
    }
   ],
   "source": [
    "y_final_pred"
   ],
   "metadata": {
    "collapsed": false,
    "ExecuteTime": {
     "end_time": "2023-10-07T22:01:43.956940100Z",
     "start_time": "2023-10-07T22:01:43.925692400Z"
    }
   },
   "id": "ae8fe55885fe9f5e"
  },
  {
   "cell_type": "markdown",
   "source": [
    "## Compute Model Accuracy with Training and Testing Data ##"
   ],
   "metadata": {
    "collapsed": false
   },
   "id": "b6e325856d924679"
  },
  {
   "cell_type": "code",
   "execution_count": 109,
   "outputs": [
    {
     "name": "stdout",
     "output_type": "stream",
     "text": [
      "Train Accuracy: 85.014749\n"
     ]
    }
   ],
   "source": [
    "#Compute accuracy on our training set\n",
    "# p = predict(X_train, w,b)\n",
    "print('Train Accuracy: %f'%(np.mean(y_final_pred == y_train_n) * 100))"
   ],
   "metadata": {
    "collapsed": false,
    "ExecuteTime": {
     "end_time": "2023-10-07T22:01:52.188948300Z",
     "start_time": "2023-10-07T22:01:52.157697900Z"
    }
   },
   "id": "56e955eb36c2dd3d"
  },
  {
   "cell_type": "code",
   "execution_count": 110,
   "outputs": [
    {
     "data": {
      "text/plain": "array([0, 0, 0, 0, 0, 0, 0, 0, 0, 0, 0, 0, 0, 0, 0, 0, 0, 0, 0, 0, 0, 0,\n       0, 0, 0, 0, 0, 0, 0, 0, 0, 0, 0, 0, 0, 0, 0, 0, 0, 0, 0, 0, 0, 0,\n       0, 0, 0, 0, 0, 0, 0, 0, 0, 0, 0, 0, 0, 0, 0, 0, 0, 0, 0, 0, 0, 0,\n       0, 0, 0, 0, 0, 0, 0, 0, 0, 0, 0, 0, 0, 0, 0, 0, 0, 0, 0, 0, 0, 0,\n       0, 0, 0, 0, 0, 0, 0, 0, 0, 0, 0, 0, 0, 0, 0, 0, 0, 0, 0, 0, 0, 0,\n       0, 0, 0, 0, 0, 0, 0, 0, 0, 0, 0, 0, 0, 0, 0, 0, 0, 0, 0, 0, 0, 0,\n       0, 0, 0, 0, 0, 0, 0, 0, 0, 0, 0, 0, 0, 0, 0, 0, 0, 0, 0, 0, 0, 0,\n       0, 0, 0, 0, 0, 0, 0, 0, 0, 0, 0, 0, 0, 0, 0, 0, 0, 0, 0, 0, 0, 0,\n       0, 0, 0, 0, 0, 0, 0, 0, 0, 0, 0, 0, 0, 0, 0, 0, 0, 0, 0, 0, 0, 0,\n       0, 0, 0, 0, 0, 0, 0, 0, 0, 0, 0, 0, 0, 0, 0, 0, 0, 0, 0, 0, 0, 0,\n       0, 0, 0, 0, 0, 0, 0, 0, 0, 0, 0, 0, 0, 0, 0, 0, 0, 0, 0, 0, 0, 0,\n       0, 0, 0, 0, 0, 0, 0, 0, 0, 0, 0, 0, 0, 0, 0, 0, 0, 0, 0, 0, 0, 0,\n       0, 0, 0, 0, 0, 0, 0, 0, 0, 0, 0, 0, 0, 0, 0, 0, 0, 0, 0, 0, 0, 0,\n       0, 0, 0, 0, 0, 0, 0, 0, 0, 0, 0, 0, 0, 0, 0, 0, 0, 0, 0, 0, 0, 0,\n       0, 0, 0, 0, 0, 0, 0, 0, 0, 0, 0, 0, 0, 0, 0, 0, 0, 0, 0, 0, 0, 0,\n       0, 0, 0, 0, 0, 0, 0, 0, 0, 0, 0, 0, 0, 0, 0, 0, 0, 0, 0, 0, 0, 0,\n       0, 0, 0, 0, 0, 0, 0, 0, 0, 0, 0, 0, 0, 0, 0, 0, 0, 0, 0, 0, 0, 0,\n       0, 0, 0, 0, 0, 0, 0, 0, 0, 0, 0, 0, 0, 0, 0, 0, 0, 0, 0, 0, 0, 0,\n       0, 0, 0, 0, 0, 0, 0, 0, 0, 0, 0, 0, 0, 0, 0, 0, 0, 0, 0, 0, 0, 0,\n       0, 0, 0, 0, 0, 0, 0, 0, 0, 0, 0, 0, 0, 0, 0, 0, 0, 0, 0, 0, 0, 0,\n       0, 0, 0, 0, 0, 0, 0, 0, 0, 0, 0, 0, 0, 0, 0, 0, 0, 0, 0, 0, 0, 0,\n       0, 0, 0, 0, 0, 0, 0, 0, 0, 0, 0, 0, 0, 0, 0, 0, 0, 0, 0, 0, 0, 0,\n       0, 0, 0, 0, 0, 0, 0, 0, 0, 0, 0, 0, 0, 0, 0, 0, 0, 0, 0, 0, 0, 0,\n       0, 0, 0, 0, 0, 0, 0, 0, 0, 0, 0, 0, 0, 0, 0, 0, 0, 0, 0, 0, 0, 0,\n       0, 0, 0, 0, 0, 0, 0, 0, 0, 0, 0, 0, 0, 0, 0, 0, 0, 0, 0, 0, 0, 0,\n       0, 0, 0, 0, 0, 0, 0, 0, 0, 0, 0, 0, 0, 0, 0, 0, 0, 0, 0, 0, 0, 0,\n       0, 0, 0, 0, 0, 0, 0, 0, 0, 0, 0, 0, 0, 0, 0, 0, 0, 0, 0, 0, 0, 0,\n       0, 0, 0, 0, 0, 0, 0, 0, 0, 0, 0, 0, 0, 0, 0, 0, 0, 0, 0, 0, 0, 0,\n       0, 0, 0, 0, 0, 0, 0, 0, 0, 0, 0, 0, 0, 0, 0, 0, 0, 0, 0, 0, 0, 0,\n       0, 0, 0, 0, 0, 0, 0, 0, 0, 0, 0, 0, 0, 0, 0, 0, 0, 0, 0, 0, 0, 0,\n       0, 0, 0, 0, 0, 0, 0, 0, 0, 0, 0, 0, 0, 0, 0, 0, 0, 0, 0, 0, 0, 0,\n       0, 0, 0, 0, 0, 0, 0, 0, 0, 0, 0, 0, 0, 0, 0, 0, 0, 0, 0, 0, 0, 0,\n       0, 0, 0, 0, 0, 0, 0, 0, 0, 0, 0, 0, 0, 0, 0, 0, 0, 0, 0, 0, 0, 0,\n       0, 0, 0, 0, 0, 0, 0, 0, 0, 0, 0, 0, 0, 0, 0, 0, 0, 0, 0, 0, 0, 0,\n       0, 0, 0, 0, 0, 0, 0, 0, 0, 0, 0, 0, 0, 0, 0, 0, 0, 0, 0, 0, 0, 0,\n       0, 0, 0, 0, 0, 0, 0, 0, 0, 0, 0, 0, 0, 0, 0, 0, 0, 0, 0, 0, 0, 0,\n       0, 0, 0, 0, 0, 0, 0, 0, 0, 0, 0, 0, 0, 0, 0, 0, 0, 0, 0, 0, 0, 0,\n       0, 0, 0, 0, 0, 0, 0, 0, 0, 0, 0, 0, 0, 0, 0, 0, 0, 0, 0, 0, 0, 0,\n       0, 0, 0, 0, 0, 0, 0, 0, 0, 0, 0, 0])"
     },
     "execution_count": 110,
     "metadata": {},
     "output_type": "execute_result"
    }
   ],
   "source": [
    "predicting_y_test = compute_y_pred(w, x_test_n, b)\n",
    "predicting_y_test = predict(predicting_y_test)\n",
    "predicting_y_test"
   ],
   "metadata": {
    "collapsed": false,
    "ExecuteTime": {
     "end_time": "2023-10-07T22:02:04.011348500Z",
     "start_time": "2023-10-07T22:02:03.933228500Z"
    }
   },
   "id": "54ded01b686206dd"
  },
  {
   "cell_type": "code",
   "execution_count": 111,
   "outputs": [
    {
     "name": "stdout",
     "output_type": "stream",
     "text": [
      "Train Accuracy of Calculated Model on Test Data: 83.962264\n"
     ]
    }
   ],
   "source": [
    "print('Train Accuracy of Calculated Model on Test Data: %f'%(np.mean(predicting_y_test == y_test_n) * 100))"
   ],
   "metadata": {
    "collapsed": false,
    "ExecuteTime": {
     "end_time": "2023-10-07T22:02:06.886631300Z",
     "start_time": "2023-10-07T22:02:06.855382Z"
    }
   },
   "id": "edcc582b7cccf13d"
  },
  {
   "cell_type": "markdown",
   "source": [
    "## Miscellaneous ## "
   ],
   "metadata": {
    "collapsed": false
   },
   "id": "a9c159f8475eafd1"
  },
  {
   "cell_type": "code",
   "execution_count": 56,
   "outputs": [
    {
     "data": {
      "text/plain": "array([0.5, 0.5, 0.5, ..., 0.5, 0.5, 0.5])"
     },
     "execution_count": 56,
     "metadata": {},
     "output_type": "execute_result"
    }
   ],
   "source": [
    "# TESTING compute_y_pred function\n",
    "m = x_train_n.shape[0]\n",
    "n = x_train_n.shape[1]\n",
    "w = np.zeros(n)\n",
    "# w = np.array([.55, 6.6, 7.8, 8.0])\n",
    "b = 0.0\n",
    "y_pred = compute_y_pred(w, x_train_n, b)\n",
    "y_pred"
   ],
   "metadata": {
    "collapsed": false,
    "ExecuteTime": {
     "end_time": "2023-10-07T20:47:24.329880500Z",
     "start_time": "2023-10-07T20:47:24.251759500Z"
    }
   },
   "id": "50d96bb55033c087"
  },
  {
   "cell_type": "code",
   "execution_count": 59,
   "outputs": [
    {
     "data": {
      "text/plain": "0.3087803559092188"
     },
     "execution_count": 59,
     "metadata": {},
     "output_type": "execute_result"
    }
   ],
   "source": [
    "# TESTING compute_cost function\n",
    "pred_test = np.array([.5, .88, .9])\n",
    "actual_test = np.array([0, 1, 1])\n",
    "compute_cost(pred_test, actual_test)"
   ],
   "metadata": {
    "collapsed": false,
    "ExecuteTime": {
     "end_time": "2023-10-07T20:51:13.403249300Z",
     "start_time": "2023-10-07T20:51:13.378264600Z"
    }
   },
   "id": "d27f91776ba9db0e"
  },
  {
   "cell_type": "code",
   "execution_count": null,
   "outputs": [],
   "source": [],
   "metadata": {
    "collapsed": false
   },
   "id": "5d6557eeca34ad18"
  },
  {
   "cell_type": "code",
   "execution_count": null,
   "outputs": [],
   "source": [],
   "metadata": {
    "collapsed": false
   },
   "id": "e80816e864e72e91"
  },
  {
   "cell_type": "code",
   "execution_count": null,
   "outputs": [],
   "source": [],
   "metadata": {
    "collapsed": false
   },
   "id": "988f36b3d2645340"
  }
 ],
 "metadata": {
  "kernelspec": {
   "display_name": "Python 3",
   "language": "python",
   "name": "python3"
  },
  "language_info": {
   "codemirror_mode": {
    "name": "ipython",
    "version": 2
   },
   "file_extension": ".py",
   "mimetype": "text/x-python",
   "name": "python",
   "nbconvert_exporter": "python",
   "pygments_lexer": "ipython2",
   "version": "2.7.6"
  }
 },
 "nbformat": 4,
 "nbformat_minor": 5
}
