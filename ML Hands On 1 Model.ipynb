{
 "cells": [
  {
   "cell_type": "markdown",
   "metadata": {},
   "source": [
    "### Import Libraries"
   ]
  },
  {
   "cell_type": "code",
   "execution_count": 1,
   "metadata": {
    "ExecuteTime": {
     "end_time": "2023-10-01T18:44:31.648133600Z",
     "start_time": "2023-10-01T18:44:29.410785800Z"
    }
   },
   "outputs": [],
   "source": [
    "import numpy as np\n",
    "import pandas as pd\n",
    "import matplotlib.pyplot as plt\n"
   ]
  },
  {
   "cell_type": "markdown",
   "metadata": {},
   "source": [
    "### Import Data"
   ]
  },
  {
   "cell_type": "code",
   "execution_count": 2,
   "metadata": {
    "scrolled": true,
    "ExecuteTime": {
     "end_time": "2023-10-01T18:44:55.844217400Z",
     "start_time": "2023-10-01T18:44:55.594212900Z"
    }
   },
   "outputs": [
    {
     "data": {
      "text/plain": "      MolLogP    MolWt  NumRotatableBonds  AromaticProportion   logS\n0     2.59540  167.850                0.0            0.000000 -2.180\n1     2.37650  133.405                0.0            0.000000 -2.000\n2     2.59380  167.850                1.0            0.000000 -1.740\n3     2.02890  133.405                1.0            0.000000 -1.480\n4     2.91890  187.375                1.0            0.000000 -3.040\n...       ...      ...                ...                 ...    ...\n1139  1.98820  287.343                8.0            0.000000  1.144\n1140  3.42130  286.114                2.0            0.333333 -4.925\n1141  3.60960  308.333                4.0            0.695652 -3.893\n1142  2.56214  354.815                3.0            0.521739 -3.790\n1143  2.02164  179.219                1.0            0.461538 -2.581\n\n[1144 rows x 5 columns]",
      "text/html": "<div>\n<style scoped>\n    .dataframe tbody tr th:only-of-type {\n        vertical-align: middle;\n    }\n\n    .dataframe tbody tr th {\n        vertical-align: top;\n    }\n\n    .dataframe thead th {\n        text-align: right;\n    }\n</style>\n<table border=\"1\" class=\"dataframe\">\n  <thead>\n    <tr style=\"text-align: right;\">\n      <th></th>\n      <th>MolLogP</th>\n      <th>MolWt</th>\n      <th>NumRotatableBonds</th>\n      <th>AromaticProportion</th>\n      <th>logS</th>\n    </tr>\n  </thead>\n  <tbody>\n    <tr>\n      <th>0</th>\n      <td>2.59540</td>\n      <td>167.850</td>\n      <td>0.0</td>\n      <td>0.000000</td>\n      <td>-2.180</td>\n    </tr>\n    <tr>\n      <th>1</th>\n      <td>2.37650</td>\n      <td>133.405</td>\n      <td>0.0</td>\n      <td>0.000000</td>\n      <td>-2.000</td>\n    </tr>\n    <tr>\n      <th>2</th>\n      <td>2.59380</td>\n      <td>167.850</td>\n      <td>1.0</td>\n      <td>0.000000</td>\n      <td>-1.740</td>\n    </tr>\n    <tr>\n      <th>3</th>\n      <td>2.02890</td>\n      <td>133.405</td>\n      <td>1.0</td>\n      <td>0.000000</td>\n      <td>-1.480</td>\n    </tr>\n    <tr>\n      <th>4</th>\n      <td>2.91890</td>\n      <td>187.375</td>\n      <td>1.0</td>\n      <td>0.000000</td>\n      <td>-3.040</td>\n    </tr>\n    <tr>\n      <th>...</th>\n      <td>...</td>\n      <td>...</td>\n      <td>...</td>\n      <td>...</td>\n      <td>...</td>\n    </tr>\n    <tr>\n      <th>1139</th>\n      <td>1.98820</td>\n      <td>287.343</td>\n      <td>8.0</td>\n      <td>0.000000</td>\n      <td>1.144</td>\n    </tr>\n    <tr>\n      <th>1140</th>\n      <td>3.42130</td>\n      <td>286.114</td>\n      <td>2.0</td>\n      <td>0.333333</td>\n      <td>-4.925</td>\n    </tr>\n    <tr>\n      <th>1141</th>\n      <td>3.60960</td>\n      <td>308.333</td>\n      <td>4.0</td>\n      <td>0.695652</td>\n      <td>-3.893</td>\n    </tr>\n    <tr>\n      <th>1142</th>\n      <td>2.56214</td>\n      <td>354.815</td>\n      <td>3.0</td>\n      <td>0.521739</td>\n      <td>-3.790</td>\n    </tr>\n    <tr>\n      <th>1143</th>\n      <td>2.02164</td>\n      <td>179.219</td>\n      <td>1.0</td>\n      <td>0.461538</td>\n      <td>-2.581</td>\n    </tr>\n  </tbody>\n</table>\n<p>1144 rows × 5 columns</p>\n</div>"
     },
     "execution_count": 2,
     "metadata": {},
     "output_type": "execute_result"
    }
   ],
   "source": [
    "# path = 'https://www.kaggle.com/datasets/amirhosseinmirzaie/americancitizenincome'\n",
    "path = 'https://raw.githubusercontent.com/dataprofessor/data/master/delaney_solubility_with_descriptors.csv'\n",
    "df = pd.read_csv(path)\n",
    "df"
   ]
  },
  {
   "cell_type": "markdown",
   "metadata": {},
   "source": [
    "### Data Preparation ###"
   ]
  },
  {
   "cell_type": "code",
   "execution_count": 3,
   "metadata": {
    "ExecuteTime": {
     "end_time": "2023-10-01T18:45:01.720550800Z",
     "start_time": "2023-10-01T18:45:01.658053Z"
    }
   },
   "outputs": [],
   "source": [
    "y = df['logS']"
   ]
  },
  {
   "cell_type": "code",
   "execution_count": 4,
   "metadata": {
    "scrolled": true,
    "ExecuteTime": {
     "end_time": "2023-10-01T18:45:03.324994500Z",
     "start_time": "2023-10-01T18:45:03.262498900Z"
    }
   },
   "outputs": [],
   "source": [
    "x = df.drop('logS', axis=1)"
   ]
  },
  {
   "cell_type": "markdown",
   "metadata": {},
   "source": [
    "### Data splitting"
   ]
  },
  {
   "cell_type": "code",
   "execution_count": 5,
   "metadata": {
    "ExecuteTime": {
     "end_time": "2023-10-01T18:45:07.881026200Z",
     "start_time": "2023-10-01T18:45:06.304836300Z"
    }
   },
   "outputs": [],
   "source": [
    "from sklearn.model_selection import train_test_split \n",
    "\n",
    "x_train, x_test, y_train, y_test = train_test_split(x, y, test_size=0.2, random_state=100)"
   ]
  },
  {
   "cell_type": "code",
   "execution_count": 6,
   "metadata": {
    "ExecuteTime": {
     "end_time": "2023-10-01T18:45:12.786794600Z",
     "start_time": "2023-10-01T18:45:12.708676100Z"
    }
   },
   "outputs": [
    {
     "name": "stdout",
     "output_type": "stream",
     "text": [
      "<class 'pandas.core.frame.DataFrame'>\n",
      "Int64Index: 915 entries, 107 to 792\n",
      "Data columns (total 4 columns):\n",
      " #   Column              Non-Null Count  Dtype  \n",
      "---  ------              --------------  -----  \n",
      " 0   MolLogP             915 non-null    float64\n",
      " 1   MolWt               915 non-null    float64\n",
      " 2   NumRotatableBonds   915 non-null    float64\n",
      " 3   AromaticProportion  915 non-null    float64\n",
      "dtypes: float64(4)\n",
      "memory usage: 35.7 KB\n"
     ]
    }
   ],
   "source": [
    "x_train.info()"
   ]
  },
  {
   "cell_type": "code",
   "execution_count": 7,
   "metadata": {
    "ExecuteTime": {
     "end_time": "2023-10-01T18:45:25.547325600Z",
     "start_time": "2023-10-01T18:45:25.469205500Z"
    }
   },
   "outputs": [
    {
     "name": "stdout",
     "output_type": "stream",
     "text": [
      "<class 'pandas.core.frame.DataFrame'>\n",
      "Int64Index: 229 entries, 822 to 948\n",
      "Data columns (total 4 columns):\n",
      " #   Column              Non-Null Count  Dtype  \n",
      "---  ------              --------------  -----  \n",
      " 0   MolLogP             229 non-null    float64\n",
      " 1   MolWt               229 non-null    float64\n",
      " 2   NumRotatableBonds   229 non-null    float64\n",
      " 3   AromaticProportion  229 non-null    float64\n",
      "dtypes: float64(4)\n",
      "memory usage: 8.9 KB\n"
     ]
    }
   ],
   "source": [
    "x_test.info()"
   ]
  },
  {
   "cell_type": "code",
   "execution_count": 8,
   "metadata": {
    "ExecuteTime": {
     "end_time": "2023-10-01T18:45:31.076281900Z",
     "start_time": "2023-10-01T18:45:30.998161400Z"
    }
   },
   "outputs": [
    {
     "name": "stdout",
     "output_type": "stream",
     "text": [
      "<class 'pandas.core.series.Series'>\n",
      "Int64Index: 915 entries, 107 to 792\n",
      "Series name: logS\n",
      "Non-Null Count  Dtype  \n",
      "--------------  -----  \n",
      "915 non-null    float64\n",
      "dtypes: float64(1)\n",
      "memory usage: 14.3 KB\n"
     ]
    }
   ],
   "source": [
    "y_train.info()"
   ]
  },
  {
   "cell_type": "code",
   "execution_count": 9,
   "metadata": {
    "ExecuteTime": {
     "end_time": "2023-10-01T18:45:35.820864100Z",
     "start_time": "2023-10-01T18:45:35.773993200Z"
    }
   },
   "outputs": [
    {
     "name": "stdout",
     "output_type": "stream",
     "text": [
      "<class 'pandas.core.series.Series'>\n",
      "Int64Index: 229 entries, 822 to 948\n",
      "Series name: logS\n",
      "Non-Null Count  Dtype  \n",
      "--------------  -----  \n",
      "229 non-null    float64\n",
      "dtypes: float64(1)\n",
      "memory usage: 3.6 KB\n"
     ]
    }
   ],
   "source": [
    "y_test.info()"
   ]
  },
  {
   "cell_type": "markdown",
   "metadata": {},
   "source": [
    "### Model Building ### "
   ]
  },
  {
   "cell_type": "markdown",
   "metadata": {},
   "source": [
    "#### Linear Regression ####"
   ]
  },
  {
   "cell_type": "code",
   "execution_count": 10,
   "metadata": {
    "ExecuteTime": {
     "end_time": "2023-10-01T18:45:56.949806900Z",
     "start_time": "2023-10-01T18:45:56.793567400Z"
    }
   },
   "outputs": [
    {
     "data": {
      "text/plain": "LinearRegression()"
     },
     "execution_count": 10,
     "metadata": {},
     "output_type": "execute_result"
    }
   ],
   "source": [
    "from sklearn.linear_model import LinearRegression \n",
    "lr = LinearRegression()\n",
    "lr.fit(x_train, y_train)"
   ]
  },
  {
   "cell_type": "markdown",
   "metadata": {},
   "source": [
    "#### Applying the model to make a prediction ####"
   ]
  },
  {
   "cell_type": "code",
   "execution_count": 11,
   "metadata": {
    "ExecuteTime": {
     "end_time": "2023-10-01T18:46:51.441822400Z",
     "start_time": "2023-10-01T18:46:51.379325900Z"
    }
   },
   "outputs": [],
   "source": [
    "y_lr_train_pred = lr.predict(x_train)\n",
    "y_lr_test_pred = lr.predict(x_test)"
   ]
  },
  {
   "cell_type": "code",
   "execution_count": 12,
   "metadata": {
    "ExecuteTime": {
     "end_time": "2023-10-01T18:46:53.134990400Z",
     "start_time": "2023-10-01T18:46:53.041246600Z"
    }
   },
   "outputs": [
    {
     "data": {
      "text/plain": "array([-0.73892858, -0.00644945, -0.00262957, -0.4428987 ])"
     },
     "execution_count": 12,
     "metadata": {},
     "output_type": "execute_result"
    }
   ],
   "source": [
    "lr.coef_"
   ]
  },
  {
   "cell_type": "code",
   "execution_count": 13,
   "metadata": {
    "ExecuteTime": {
     "end_time": "2023-10-01T18:46:54.519930400Z",
     "start_time": "2023-10-01T18:46:54.473056400Z"
    }
   },
   "outputs": [
    {
     "data": {
      "text/plain": "0.22249452399664316"
     },
     "execution_count": 13,
     "metadata": {},
     "output_type": "execute_result"
    }
   ],
   "source": [
    "lr.intercept_"
   ]
  },
  {
   "cell_type": "markdown",
   "source": [
    "## Gradient Descent Implementation "
   ],
   "metadata": {
    "collapsed": false
   }
  },
  {
   "cell_type": "markdown",
   "source": [
    "### Convert to Numpy Array"
   ],
   "metadata": {
    "collapsed": false
   }
  },
  {
   "cell_type": "code",
   "execution_count": 19,
   "outputs": [],
   "source": [
    "x_train_n = x_train.to_numpy(dtype=float)\n",
    "y_train_n = y_train.to_numpy(dtype=float)\n",
    "x_test_n = x_test.to_numpy(dtype=float)\n",
    "y_test_n = y_test.to_numpy(dtype=float)"
   ],
   "metadata": {
    "collapsed": false,
    "ExecuteTime": {
     "end_time": "2023-10-01T19:06:02.621218500Z",
     "start_time": "2023-10-01T19:06:02.558722400Z"
    }
   }
  },
  {
   "cell_type": "markdown",
   "source": [
    "### Feature Scaling "
   ],
   "metadata": {
    "collapsed": false
   }
  },
  {
   "cell_type": "code",
   "execution_count": 20,
   "outputs": [],
   "source": [
    "def scale_feature(x_train_n, columnIndex):\n",
    "    feature = x_train_n[:, columnIndex]\n",
    "    max = feature.max()\n",
    "    m = feature.size\n",
    "    \n",
    "    for i in range(m):\n",
    "        x_train_n[i, columnIndex] = abs(feature[i] - max)/max\n",
    "    return x_train_n"
   ],
   "metadata": {
    "collapsed": false,
    "ExecuteTime": {
     "end_time": "2023-10-01T19:06:06.987401Z",
     "start_time": "2023-10-01T19:06:06.956151300Z"
    }
   }
  },
  {
   "cell_type": "code",
   "execution_count": 21,
   "outputs": [
    {
     "data": {
      "text/plain": "array([[ 3.1428    ,  0.1141565 ,  5.        ,  0.        ],\n       [-2.0785    ,  0.15370289,  0.        ,  0.        ],\n       [-0.4773    ,  0.18825265,  0.        ,  0.        ],\n       ...,\n       [ 5.76304   ,  0.30508232,  0.        ,  0.9       ],\n       [ 3.8996    ,  0.21234424, 10.        ,  0.        ],\n       [ 2.52334   ,  0.37654637,  3.        ,  0.3       ]])"
     },
     "execution_count": 21,
     "metadata": {},
     "output_type": "execute_result"
    }
   ],
   "source": [
    "scale_feature(x_train_n, 1)"
   ],
   "metadata": {
    "collapsed": false,
    "ExecuteTime": {
     "end_time": "2023-10-01T19:06:09.986472400Z",
     "start_time": "2023-10-01T19:06:09.923976800Z"
    }
   }
  },
  {
   "cell_type": "code",
   "execution_count": 24,
   "metadata": {
    "ExecuteTime": {
     "end_time": "2023-10-01T21:09:18.264648300Z",
     "start_time": "2023-10-01T21:09:18.227066900Z"
    }
   },
   "outputs": [],
   "source": [
    "def gradient_descent_without_scikit(y_train_n, w_init, b_init, x_train_n, iterations, a):\n",
    "     \n",
    "    m = x_train_n.shape[0]\n",
    "    dj_db_history = np.zeros(iterations, dtype=float)\n",
    "    dj_dw_history = np.zeros((iterations, w_init.size), dtype=float)\n",
    "    j_history = np.zeros(iterations, dtype=float)\n",
    "    y_pred_history = np.zeros((iterations,m), dtype=float) \n",
    "    w = w_init\n",
    "    b = b_init \n",
    "    \n",
    "    y_pred = compute_y_pred(w, x_train_n, b)  \n",
    "    for i in range(iterations): \n",
    "        dj_db, dj_dw = compute_gradient_1(y_pred, y_train_n, x_train_n)\n",
    "        j_history[i] = compute_cost(y_pred, y_train_n)\n",
    "        dj_db_history[i] = dj_db\n",
    "        dj_dw_history[i] = dj_dw \n",
    "        b = b - a * dj_db \n",
    "        w = w - a * dj_dw\n",
    "        y_pred = compute_y_pred(w, x_train_n, b)\n",
    "        y_pred_history[i,:] = y_pred \n",
    "        \n",
    "    return w, b, dj_dw_history, dj_db_history, j_history, y_pred_history  "
   ]
  },
  {
   "cell_type": "code",
   "execution_count": 29,
   "outputs": [],
   "source": [
    "def compute_gradient_1(y_pred, y_train_n, x_train_n):\n",
    "    m=y_pred.size\n",
    "    n=x_train_n.shape[1]\n",
    "    dj_dw = np.zeros(x_train_n.shape, dtype=float)\n",
    "    dj_db = np.zeros(m, dtype=float)\n",
    "    for i in range(m):\n",
    "        dj_db[i]=(y_pred[i]-y_train_n[i])\n",
    "        for j in range(n): \n",
    "            dj_dw[i, j] = ((y_pred[i] - y_train_n[i]) * x_train_n[i, j])\n",
    "    \n",
    "    w_cost =np.zeros(n, dtype=float)\n",
    "    for i in range(n):\n",
    "        w_cost[i]=np.sum(dj_dw[:, i])\n",
    "        \n",
    "    w_cost = w_cost / m \n",
    "    b_cost = np.sum(dj_db)/m\n",
    "    return b_cost, w_cost"
   ],
   "metadata": {
    "collapsed": false,
    "ExecuteTime": {
     "end_time": "2023-10-01T21:15:48.709081200Z",
     "start_time": "2023-10-01T21:15:48.666013100Z"
    }
   }
  },
  {
   "cell_type": "code",
   "execution_count": 47,
   "outputs": [],
   "source": [
    "# def compute_gradient(y_pred, y_train, x_train):\n",
    "#     \n",
    "#     #Convert the pandas Dataframes to numpy Arrays to allow for easier manipulation. Indexing not possible in DF.  \n",
    "# #     y_pred : numpy array\n",
    "#     y_train_n = y_train.to_numpy(dtype=float)\n",
    "#     x_train_n = x_train.to_numpy(dtype=float) \n",
    "#     \n",
    "#     m=y_pred.size\n",
    "#     n=x_train_n.shape[1]\n",
    "#     dj_dw = np.zeros((x_train.shape), dtype=float)\n",
    "#     dj_db = np.zeros(m, dtype=float)\n",
    "#     for i in range(m):\n",
    "#         dj_db[i]=(y_pred[i]-y_train_n[i])\n",
    "#         for j in range(n): \n",
    "#             dj_dw[i, j] = ((y_pred[i] - y_train_n[i]) * x_train_n[i, j])\n",
    "#     \n",
    "#     w_cost =np.zeros(n, dtype=float)\n",
    "#     for i in range(n):\n",
    "#         w_cost[i]=np.sum(dj_dw[:, i])\n",
    "# \n",
    "#     w_cost = w_cost / m\n",
    "#     b_cost = np.sum(dj_db)/m\n",
    "#     return b_cost, w_cost"
   ],
   "metadata": {
    "collapsed": false,
    "ExecuteTime": {
     "start_time": "2023-09-30T22:21:57.718538400Z"
    }
   }
  },
  {
   "cell_type": "code",
   "execution_count": 26,
   "outputs": [],
   "source": [
    "def compute_cost(y_pred, y_train_n):\n",
    "    # y_train_n = y_train.to_numpy(dtype=float)\n",
    "    m=y_pred.size\n",
    "    sumArray = np.zeros(m, dtype=float)\n",
    "    for i in range(m):\n",
    "        sumArray[i] = (y_pred[i]-y_train_n[i])**2\n",
    "    cost = np.sum(sumArray)/(2*m)\n",
    "    return cost"
   ],
   "metadata": {
    "collapsed": false,
    "ExecuteTime": {
     "end_time": "2023-10-01T21:12:37.102678900Z",
     "start_time": "2023-10-01T21:12:37.071414700Z"
    }
   }
  },
  {
   "cell_type": "code",
   "execution_count": 27,
   "outputs": [],
   "source": [
    "def compute_y_pred(w, x, b): \n",
    "    m = x.shape[0]\n",
    "    y_pred = np.zeros(m)\n",
    "    for i in range(m):\n",
    "        y_pred[i] = np.dot(w, x[i])+b\n",
    "    return y_pred"
   ],
   "metadata": {
    "collapsed": false,
    "ExecuteTime": {
     "end_time": "2023-10-01T21:12:51.287090400Z",
     "start_time": "2023-10-01T21:12:51.271523Z"
    }
   }
  },
  {
   "cell_type": "markdown",
   "source": [
    "### Calculate Gradient Descent ###"
   ],
   "metadata": {
    "collapsed": false
   }
  },
  {
   "cell_type": "code",
   "execution_count": 56,
   "outputs": [
    {
     "name": "stdout",
     "output_type": "stream",
     "text": [
      "the last gradients  are [3.49540783 0.30818705 0.96043475 0.538062  ] and 0.9966823927251803. They should decrease by 0.0001\n",
      "lowest cost using gradient descent is 1.5204410845237561\n",
      "the expected cost using scikit LR is 0.5037681475546845\n"
     ]
    }
   ],
   "source": [
    "m = x_train_n.shape[0]\n",
    "n = x_train_n.shape[1]\n",
    "w = np.zeros(n, dtype=float)\n",
    "# w = np.array([.55, 6.6, 7.8, 8.0])\n",
    "b = 0.0\n",
    "iterations = 800\n",
    "learning_rate = .0001\n",
    "\n",
    "w, b, dj_dw_history, dj_db_history, j_history, y_pred_history = gradient_descent_without_scikit(y_train_n, w, b, x_train_n, iterations, learning_rate)\n",
    "\n",
    "convergence_point = j_history[iterations-1]\n",
    "gradient_w = dj_dw_history[iterations-1]\n",
    "gradient_b = dj_db_history[iterations-1]\n",
    "print(f\"the last gradients  are {gradient_w} and {gradient_b}. They should decrease by {learning_rate}\")\n",
    "print(f\"lowest cost using gradient descent is {convergence_point}\")\n",
    "\n",
    "expected = compute_cost(y_lr_train_pred, y_train)\n",
    "print(f\"the expected cost using scikit LR is {expected}\")"
   ],
   "metadata": {
    "collapsed": false,
    "ExecuteTime": {
     "end_time": "2023-10-01T21:33:21.707574700Z",
     "start_time": "2023-10-01T21:33:16.740101600Z"
    }
   }
  },
  {
   "cell_type": "code",
   "execution_count": 57,
   "outputs": [
    {
     "data": {
      "text/plain": "[<matplotlib.lines.Line2D at 0x23958de46a0>]"
     },
     "execution_count": 57,
     "metadata": {},
     "output_type": "execute_result"
    },
    {
     "data": {
      "text/plain": "<Figure size 640x480 with 1 Axes>",
      "image/png": "[encoded data removed]"
     },
     "metadata": {},
     "output_type": "display_data"
    }
   ],
   "source": [
    "plt.plot(j_history)"
   ],
   "metadata": {
    "collapsed": false,
    "ExecuteTime": {
     "end_time": "2023-10-01T21:34:55.930891300Z",
     "start_time": "2023-10-01T21:34:55.727803500Z"
    }
   }
  },
  {
   "cell_type": "code",
   "execution_count": 58,
   "outputs": [
    {
     "data": {
      "text/plain": "array([-0.50318282, -0.04291745, -0.2984227 , -0.06659092])"
     },
     "execution_count": 58,
     "metadata": {},
     "output_type": "execute_result"
    }
   ],
   "source": [
    "w"
   ],
   "metadata": {
    "collapsed": false,
    "ExecuteTime": {
     "end_time": "2023-10-01T21:35:14.163990700Z",
     "start_time": "2023-10-01T21:35:14.117121700Z"
    }
   }
  },
  {
   "cell_type": "code",
   "execution_count": 59,
   "outputs": [
    {
     "data": {
      "text/plain": "-0.1438778380450006"
     },
     "execution_count": 59,
     "metadata": {},
     "output_type": "execute_result"
    }
   ],
   "source": [
    "b"
   ],
   "metadata": {
    "collapsed": false,
    "ExecuteTime": {
     "end_time": "2023-10-01T21:35:17.034227200Z",
     "start_time": "2023-10-01T21:35:17.018601800Z"
    }
   }
  },
  {
   "cell_type": "markdown",
   "source": [
    "### Finding cost of Sci Kit's LR ###"
   ],
   "metadata": {
    "collapsed": false
   }
  },
  {
   "cell_type": "code",
   "execution_count": 60,
   "metadata": {
    "ExecuteTime": {
     "end_time": "2023-10-01T21:35:35.798580800Z",
     "start_time": "2023-10-01T21:35:35.782957200Z"
    }
   },
   "outputs": [
    {
     "data": {
      "text/plain": "array([-0.73892858, -0.00644945, -0.00262957, -0.4428987 ])"
     },
     "execution_count": 60,
     "metadata": {},
     "output_type": "execute_result"
    }
   ],
   "source": [
    "lr.coef_"
   ]
  },
  {
   "cell_type": "code",
   "execution_count": 61,
   "metadata": {
    "ExecuteTime": {
     "end_time": "2023-10-01T21:35:36.971885200Z",
     "start_time": "2023-10-01T21:35:36.909386300Z"
    }
   },
   "outputs": [
    {
     "data": {
      "text/plain": "0.22249452399664316"
     },
     "execution_count": 61,
     "metadata": {},
     "output_type": "execute_result"
    }
   ],
   "source": [
    "lr.intercept_"
   ]
  },
  {
   "cell_type": "code",
   "execution_count": 297,
   "outputs": [
    {
     "data": {
      "text/plain": "1.5756702045670699"
     },
     "execution_count": 297,
     "metadata": {},
     "output_type": "execute_result"
    }
   ],
   "source": [
    "y_pred_from_lr = compute_y_pred(lr.coef_, x_train_n, lr.intercept_)\n",
    "compute_cost(y_pred_from_lr, y_train_n)"
   ],
   "metadata": {
    "collapsed": false,
    "ExecuteTime": {
     "end_time": "2023-10-01T01:56:56.170277700Z",
     "start_time": "2023-10-01T01:56:56.029663100Z"
    }
   }
  },
  {
   "cell_type": "code",
   "execution_count": 298,
   "outputs": [
    {
     "data": {
      "text/plain": "6.654003498021119"
     },
     "execution_count": 298,
     "metadata": {},
     "output_type": "execute_result"
    }
   ],
   "source": [
    "convergence_point"
   ],
   "metadata": {
    "collapsed": false,
    "ExecuteTime": {
     "end_time": "2023-10-01T01:56:58.254610Z",
     "start_time": "2023-10-01T01:56:58.160869100Z"
    }
   }
  },
  {
   "cell_type": "code",
   "execution_count": 299,
   "outputs": [
    {
     "data": {
      "text/plain": "array([[ 3.1428    ,  0.85630816,  5.        ,  0.        ],\n       [-2.0785    ,  0.81808031,  0.        ,  0.        ],\n       [-0.4773    ,  0.78468248,  0.        ,  0.        ],\n       ...,\n       [ 5.76304   ,  0.67174809,  0.        ,  0.9       ],\n       [ 3.8996    ,  0.76139415, 10.        ,  0.        ],\n       [ 2.52334   ,  0.60266676,  3.        ,  0.3       ]])"
     },
     "execution_count": 299,
     "metadata": {},
     "output_type": "execute_result"
    }
   ],
   "source": [
    "x_train_n"
   ],
   "metadata": {
    "collapsed": false,
    "ExecuteTime": {
     "end_time": "2023-10-01T01:57:00.005313200Z",
     "start_time": "2023-10-01T01:56:59.814649400Z"
    }
   }
  },
  {
   "cell_type": "code",
   "execution_count": 289,
   "outputs": [
    {
     "data": {
      "text/plain": "array([112.216, 142.07 , 168.152, 154.125, 100.161, 149.237,  98.189,\n       330.171, 223.102, 114.094, 175.   , 271.36 , 309.529, 156.269,\n       326.437, 110.181, 282.906, 120.623, 324.336, 217.378, 145.161,\n       147.004, 135.191, 258.324,  88.106, 409.782, 144.173, 150.177,\n       390.564, 108.144, 323.133,  62.137, 326.437, 152.149, 221.26 ,\n       308.381, 239.274, 232.239, 240.215, 240.698,  82.146,  98.189,\n       271.39 , 102.177, 346.467,  95.101,  93.513, 416.583, 256.305,\n        32.042, 316.427, 393.854,  75.067, 372.808, 408.498, 112.216,\n       156.228, 128.215, 226.276, 134.222, 176.215, 132.126, 352.39 ,\n       360.45 , 142.201, 429.772, 320.046, 116.204, 340.463, 102.177,\n       130.187, 198.31 , 118.176,  90.191, 100.161, 304.67 , 269.772,\n       114.06 , 253.367, 169.993, 136.194, 138.126, 284.142, 156.141,\n       212.68 , 248.307, 134.65 , 164.375, 380.662, 211.261, 314.522,\n       122.167, 163.003,  75.498,  70.135,  86.134, 330.364, 288.44 ,\n       254.07 ,  94.204, 198.222,  78.114, 306.276, 126.586, 266.338,\n       338.876, 134.222, 266.34 ,  58.124, 290.447, 266.304, 367.86 ,\n       148.249, 364.914, 277.238, 257.547, 126.115, 151.129, 208.217,\n       207.07 , 393.854, 198.394, 324.38 , 169.567, 130.187, 327.123,\n       137.138, 206.288, 257.547, 212.249,  40.065, 227.337, 192.001,\n       290.323, 162.279, 130.231, 270.372, 210.285, 146.111,  72.107,\n       179.219, 151.165, 238.455, 192.001, 170.211, 210.233, 196.202,\n        96.173, 122.258, 168.239,  58.08 , 156.228, 126.243, 173.171,\n       299.691, 137.142, 215.894, 225.296,  70.135, 168.112,  84.162,\n       100.205, 337.463, 197.448, 107.156, 189.243, 223.102, 290.447,\n        86.09 , 114.188, 112.088, 121.183, 365.842, 451.469, 114.188,\n       179.222, 376.369, 314.466,  74.079, 335.282, 320.046, 164.208,\n       288.387,  94.939,  79.102, 184.195, 173.835,  84.933,  70.135,\n       476.585, 273.723, 342.875, 366.   , 284.098, 244.25 , 110.2  ,\n        88.15 , 120.195, 148.205,  72.107,  46.069, 157.01 , 180.21 ,\n       198.653,  98.189, 350.458, 192.261, 293.348,  90.191, 111.104,\n       342.226,  98.96 , 254.355, 228.42 , 102.133, 152.196, 376.496,\n        87.122, 255.277, 362.771, 474.64 , 164.204,  86.134, 379.381,\n       128.134,  72.151,  84.162, 365.964, 230.31 , 228.294, 202.256,\n       155.966, 163.003, 160.169, 302.238,  68.075, 211.692, 293.407,\n        84.082, 244.294, 266.34 , 179.219, 102.133, 170.168, 120.195,\n       107.156,  86.134, 136.15 , 180.167, 171.221, 100.161, 330.468,\n       130.231, 122.993, 380.784, 223.794,  74.123, 118.245, 163.829,\n       154.212, 128.558, 128.558, 144.388, 242.321, 226.276, 119.127,\n       223.102, 209.293, 120.195, 279.336, 150.13 , 116.204, 281.352,\n       102.177, 221.647, 157.556,  70.135, 213.664, 129.162, 128.156,\n       270.501, 234.299, 260.386, 210.233, 230.909,  82.146,  89.094,\n       134.222, 231.893, 107.156, 137.02 , 168.108, 244.29 , 131.389,\n        88.15 , 212.249,  74.123, 490.639, 133.405, 366.718, 162.152,\n       449.856, 144.173, 197.381, 308.361, 152.222, 137.138, 208.28 ,\n       287.343, 278.335,  72.107, 100.205, 106.168,  70.091, 261.919,\n       321.163, 238.287, 267.306, 226.235, 162.152,  88.106, 108.14 ,\n       143.189, 290.447,  89.525, 157.556, 201.225, 214.652,  86.134,\n       278.348, 103.124, 283.331, 260.762, 102.177, 127.574, 140.27 ,\n       132.206, 360.45 , 106.596, 128.215, 333.266,  88.15 , 286.415,\n       126.199, 114.232, 316.485, 310.687, 303.156, 137.02 , 217.268,\n       286.331, 184.238, 150.221, 179.219, 360.882, 242.344, 402.487,\n       243.742, 148.205, 354.815, 172.183, 257.547, 116.204, 102.177,\n        86.178, 434.294, 333.604, 184.242, 165.192, 527.414, 138.254,\n       268.32 , 122.127, 128.174, 367.816, 171.156, 332.57 , 227.085,\n       270.225,  28.054, 313.361, 102.177, 275.179,  88.15 , 134.222,\n       311.853, 180.25 ,  70.135, 322.29 ,  68.119, 315.716, 286.114,\n       166.176, 290.832,  84.082, 373.321, 191.455, 255.292, 286.349,\n       214.206, 214.393, 114.232, 173.009, 225.313, 120.151, 342.778,\n       286.156,  26.038,  78.542, 182.135, 119.167, 413.   , 152.237,\n       152.237, 118.176, 329.321, 116.204, 301.342, 285.343,  56.108,\n        72.151, 252.316, 308.333, 237.097, 196.206, 192.261,  98.96 ,\n       204.01 , 130.231, 142.585, 180.156, 245.282, 100.205, 254.289,\n       228.294,  82.146, 216.668, 153.156, 218.322, 260.245, 131.178,\n       102.177,  74.123, 242.447, 147.004,  96.944, 226.276,  60.096,\n       345.226, 116.164, 276.915, 238.455, 392.467, 300.362, 298.367,\n       290.75 , 256.308, 252.316,  53.064, 134.222, 360.882, 102.177,\n       312.453, 133.405, 226.101, 215.894, 207.07 , 168.108, 266.098,\n       182.135, 213.31 , 380.456, 148.249, 241.364, 368.369, 129.162,\n       196.681,  96.944, 162.276, 100.161, 142.242, 169.993, 318.03 ,\n       505.206, 270.372, 194.233, 354.875, 100.161, 198.222, 224.26 ,\n       235.906, 313.747, 147.133,  74.079, 162.152, 122.167, 196.206,\n        72.107, 100.205, 193.249, 323.132, 300.36 , 140.27 ,  74.123,\n       257.769, 120.195, 112.216, 182.179,  76.124, 502.92 , 256.348,\n       106.168, 151.129, 154.212, 296.552, 136.114, 342.297, 107.156,\n       124.208, 154.253, 154.253, 120.195, 144.214, 184.263, 216.192,\n       380.662, 312.118, 158.285, 102.177, 421.734, 137.138, 203.351,\n       202.256, 108.14 , 228.294,  54.092, 112.216, 253.269, 209.293,\n       213.236, 118.245, 267.93 , 291.992, 335.282, 309.366, 146.153,\n       213.105, 107.156, 128.259, 116.16 , 167.85 , 187.862, 410.536,\n       338.795, 252.316, 116.16 , 288.738, 268.229, 186.295, 372.505,\n       148.205, 130.078, 334.456, 146.153, 326.437, 146.153, 178.234,\n       286.349, 235.906, 151.047, 262.261, 102.177, 214.264, 300.398,\n       158.117, 149.149, 194.194, 102.177, 269.373, 288.255, 156.228,\n       165.834,  95.101, 119.123, 346.339, 268.359, 182.172, 257.547,\n       102.133, 253.305, 224.26 , 370.915, 434.504, 130.231, 233.098,\n       197.448, 272.388, 136.114, 126.586, 238.287, 257.437, 263.381,\n       107.156, 153.137,  59.068, 137.138, 214.062, 353.49 , 102.133,\n       261.119, 162.619, 446.405,  94.113, 172.268, 215.688, 360.45 ,\n        86.134, 127.574, 314.469, 179.101, 137.138, 134.222,  55.08 ,\n       256.331, 416.304, 402.487,  56.064,  42.081, 240.444, 138.21 ,\n        86.134, 268.356, 215.894, 212.68 , 304.352,  88.15 ,  88.15 ,\n       125.131, 295.336, 120.195, 588.562, 214.349, 167.211, 222.24 ,\n       100.077, 222.332, 291.992, 186.295, 118.176, 390.564, 130.231,\n       116.204, 331.353, 132.232,  78.542, 504.438, 262.309, 142.183,\n       141.939, 404.547, 267.835, 242.321,  30.07 , 288.431, 202.295,\n       122.993, 229.715,  88.15 , 102.177, 300.266, 345.653, 466.479,\n       107.156, 301.296, 281.271, 291.992, 107.156, 156.228, 380.913,\n       209.245, 208.216, 157.556, 225.296,  64.515, 114.232,  88.15 ,\n        68.119, 102.133, 366.417, 342.297, 138.126, 395.327, 178.234,\n        62.499,  96.173,  84.162,  92.569, 429.772, 162.276, 180.163,\n       457.432, 282.556, 194.186, 139.11 , 102.177, 430.934, 124.139,\n       331.202, 156.228, 254.293, 238.455, 270.361, 218.256, 261.064,\n       218.253, 338.363, 100.205, 322.243, 180.167, 154.253, 107.156,\n       137.138, 410.457, 219.266,  44.097, 179.222,  80.09 , 142.585,\n        92.569, 236.271, 236.702, 278.354, 162.152,  85.106, 156.097,\n       122.167, 236.74 , 198.134, 241.243, 116.16 , 193.246, 298.304,\n       320.046, 192.261, 265.914,  96.173, 163.003, 223.102,  46.073,\n       395.327, 293.754, 154.253,  86.178,  96.085, 158.241, 246.359,\n       350.591, 345.401, 214.25 , 232.205, 100.161, 116.204, 158.241,\n       340.507, 314.425, 153.823, 223.228, 181.449, 395.327,  41.053,\n       200.322, 171.037, 384.516, 303.671, 780.949, 144.214, 286.718,\n       366.844, 116.16 ,  98.189, 130.187, 165.192,  56.108, 167.258,\n        92.141, 162.619, 118.179, 236.271, 144.258, 297.745, 114.232,\n       360.882, 120.195, 360.882, 511.581, 130.231, 112.216, 226.448,\n       154.253, 154.253, 197.448, 291.992, 100.146, 100.161, 255.292,\n       121.183, 428.12 , 110.112, 243.309, 218.083,  96.104, 322.364,\n       208.261, 354.491, 109.128,  80.09 , 352.77 , 349.066, 249.097,\n        86.178, 329.38 , 148.125, 299.288, 296.374, 198.222, 212.248,\n       184.02 ,  88.15 , 150.221, 182.266, 127.574,  74.123, 297.656,\n       266.257,  88.15 , 100.161, 421.422, 394.439, 206.289, 258.104,\n       260.253, 130.187, 129.384,  70.091, 291.265,  68.119, 102.133,\n       223.165, 391.294, 144.258, 114.188, 142.201, 106.168, 118.139,\n       112.987, 214.294, 235.906, 123.111, 296.41 , 112.559,  93.129,\n       380.913, 360.882, 135.166, 393.698, 133.197, 139.11 , 166.223,\n       201.225, 223.659,  54.092, 288.431, 181.449, 201.661, 102.177,\n       142.585, 150.181, 148.249, 108.14 , 207.07 , 188.657, 227.132,\n       310.478, 122.167, 380.444, 193.128, 221.256, 168.239, 191.455,\n       167.85 ,  88.106, 238.291, 182.172, 134.222, 156.228, 128.259,\n       365.842,  76.095, 394.423, 414.63 , 130.187, 138.126, 106.124,\n       293.414,  84.162, 252.731, 318.03 , 394.471, 185.227, 217.268,\n       250.301,  82.146, 256.348, 186.339, 310.297])"
     },
     "execution_count": 289,
     "metadata": {},
     "output_type": "execute_result"
    }
   ],
   "source": [
    "x_train_n[:,1]"
   ],
   "metadata": {
    "collapsed": false,
    "ExecuteTime": {
     "end_time": "2023-10-01T01:54:30.911148500Z",
     "start_time": "2023-10-01T01:54:30.786154100Z"
    }
   }
  },
  {
   "cell_type": "markdown",
   "metadata": {},
   "source": [
    "#### Evaluate model performance ####"
   ]
  },
  {
   "cell_type": "code",
   "execution_count": 68,
   "metadata": {
    "ExecuteTime": {
     "end_time": "2023-07-30T19:28:15.205295800Z",
     "start_time": "2023-07-30T19:28:14.696386600Z"
    }
   },
   "outputs": [],
   "source": [
    "from sklearn.metrics import mean_squared_error, r2_score\n",
    "\n",
    "lr_train_mse = mean_squared_error(y_train, y_lr_train_pred)\n",
    "lr_train_r2 = r2_score(y_train, y_lr_train_pred) \n",
    "\n",
    "lr_test_mse = mean_squared_error(y_test, y_lr_test_pred)\n",
    "lr_test_r2 = r2_score(y_test, y_lr_test_pred) "
   ]
  },
  {
   "cell_type": "code",
   "execution_count": 69,
   "metadata": {
    "ExecuteTime": {
     "end_time": "2023-07-30T19:28:15.207987900Z",
     "start_time": "2023-07-30T19:28:14.724217100Z"
    }
   },
   "outputs": [
    {
     "name": "stdout",
     "output_type": "stream",
     "text": [
      "LR MSE TRAIN:  1.007536295109369\n",
      "LR R2 TRAIN:  0.7645051774663391\n",
      "LR MSE TEST:  1.0206953660861033\n",
      "LR R2 TEST:  0.7891616188563282\n"
     ]
    }
   ],
   "source": [
    "print('LR MSE TRAIN: ', lr_train_mse) \n",
    "print('LR R2 TRAIN: ', lr_train_r2)\n",
    "print('LR MSE TEST: ', lr_test_mse)\n",
    "print('LR R2 TEST: ', lr_test_r2)"
   ]
  },
  {
   "cell_type": "code",
   "execution_count": 70,
   "metadata": {
    "ExecuteTime": {
     "end_time": "2023-07-30T19:28:15.247406700Z",
     "start_time": "2023-07-30T19:28:14.755199600Z"
    }
   },
   "outputs": [
    {
     "data": {
      "text/html": [
       "<div>\n",
       "<style scoped>\n",
       "    .dataframe tbody tr th:only-of-type {\n",
       "        vertical-align: middle;\n",
       "    }\n",
       "\n",
       "    .dataframe tbody tr th {\n",
       "        vertical-align: top;\n",
       "    }\n",
       "\n",
       "    .dataframe thead th {\n",
       "        text-align: right;\n",
       "    }\n",
       "</style>\n",
       "<table border=\"1\" class=\"dataframe\">\n",
       "  <thead>\n",
       "    <tr style=\"text-align: right;\">\n",
       "      <th></th>\n",
       "      <th>Method</th>\n",
       "      <th>Training MSE</th>\n",
       "      <th>Training R2</th>\n",
       "      <th>Test MSE</th>\n",
       "      <th>Test R2</th>\n",
       "    </tr>\n",
       "  </thead>\n",
       "  <tbody>\n",
       "    <tr>\n",
       "      <th>0</th>\n",
       "      <td>Linear Regression</td>\n",
       "      <td>1.007536</td>\n",
       "      <td>0.764505</td>\n",
       "      <td>1.020695</td>\n",
       "      <td>0.789162</td>\n",
       "    </tr>\n",
       "  </tbody>\n",
       "</table>\n",
       "</div>"
      ],
      "text/plain": [
       "              Method Training MSE Training R2  Test MSE   Test R2\n",
       "0  Linear Regression     1.007536    0.764505  1.020695  0.789162"
      ]
     },
     "execution_count": 70,
     "metadata": {},
     "output_type": "execute_result"
    }
   ],
   "source": [
    "lr_results = pd.DataFrame(['Linear Regression', lr_train_mse, lr_train_r2, lr_test_mse, lr_test_r2]).transpose()\n",
    "lr_results.columns = ['Method', 'Training MSE', 'Training R2', 'Test MSE', 'Test R2']\n",
    "lr_results"
   ]
  },
  {
   "cell_type": "markdown",
   "metadata": {},
   "source": [
    "## Random Forest ##"
   ]
  },
  {
   "cell_type": "markdown",
   "metadata": {},
   "source": [
    "### Training the Model ###"
   ]
  },
  {
   "cell_type": "code",
   "execution_count": 71,
   "metadata": {
    "ExecuteTime": {
     "end_time": "2023-07-30T19:28:15.532303400Z",
     "start_time": "2023-07-30T19:28:14.781556100Z"
    }
   },
   "outputs": [
    {
     "data": {
      "text/plain": [
       "RandomForestRegressor(max_depth=2, random_state=100)"
      ]
     },
     "execution_count": 71,
     "metadata": {},
     "output_type": "execute_result"
    }
   ],
   "source": [
    "from sklearn.ensemble import RandomForestRegressor \n",
    "\n",
    "rf = RandomForestRegressor(max_depth=2, random_state=100)\n",
    "rf.fit(x_train, y_train)"
   ]
  },
  {
   "cell_type": "markdown",
   "metadata": {},
   "source": [
    "### Applying Model to make a prediction ###"
   ]
  },
  {
   "cell_type": "code",
   "execution_count": 72,
   "metadata": {
    "ExecuteTime": {
     "end_time": "2023-07-30T19:28:15.580423500Z",
     "start_time": "2023-07-30T19:28:15.280062100Z"
    }
   },
   "outputs": [],
   "source": [
    "y_rf_train_pred = rf.predict(x_train)\n",
    "y_rf_test_pred = rf.predict(x_test)"
   ]
  },
  {
   "cell_type": "markdown",
   "metadata": {},
   "source": [
    "### Evaluate model performance ###"
   ]
  },
  {
   "cell_type": "code",
   "execution_count": 73,
   "metadata": {
    "ExecuteTime": {
     "end_time": "2023-07-30T19:28:15.620854200Z",
     "start_time": "2023-07-30T19:28:15.355846500Z"
    }
   },
   "outputs": [
    {
     "data": {
      "text/html": [
       "<div>\n",
       "<style scoped>\n",
       "    .dataframe tbody tr th:only-of-type {\n",
       "        vertical-align: middle;\n",
       "    }\n",
       "\n",
       "    .dataframe tbody tr th {\n",
       "        vertical-align: top;\n",
       "    }\n",
       "\n",
       "    .dataframe thead th {\n",
       "        text-align: right;\n",
       "    }\n",
       "</style>\n",
       "<table border=\"1\" class=\"dataframe\">\n",
       "  <thead>\n",
       "    <tr style=\"text-align: right;\">\n",
       "      <th></th>\n",
       "      <th>Method</th>\n",
       "      <th>Training MSE</th>\n",
       "      <th>Training R2</th>\n",
       "      <th>Test MSE</th>\n",
       "      <th>Test R2</th>\n",
       "    </tr>\n",
       "  </thead>\n",
       "  <tbody>\n",
       "    <tr>\n",
       "      <th>0</th>\n",
       "      <td>Random Forest</td>\n",
       "      <td>1.028228</td>\n",
       "      <td>0.759669</td>\n",
       "      <td>1.407688</td>\n",
       "      <td>0.709223</td>\n",
       "    </tr>\n",
       "  </tbody>\n",
       "</table>\n",
       "</div>"
      ],
      "text/plain": [
       "          Method Training MSE Training R2  Test MSE   Test R2\n",
       "0  Random Forest     1.028228    0.759669  1.407688  0.709223"
      ]
     },
     "execution_count": 73,
     "metadata": {},
     "output_type": "execute_result"
    }
   ],
   "source": [
    "from sklearn.metrics import mean_squared_error, r2_score\n",
    "\n",
    "rf_train_mse = mean_squared_error(y_train, y_rf_train_pred)\n",
    "rf_train_r2 = r2_score(y_train, y_rf_train_pred) \n",
    "\n",
    "rf_test_mse = mean_squared_error(y_test, y_rf_test_pred)\n",
    "rf_test_r2 = r2_score(y_test, y_rf_test_pred) \n",
    "\n",
    "rf_results = pd.DataFrame(['Random Forest', rf_train_mse, rf_train_r2, rf_test_mse, rf_test_r2]).transpose()\n",
    "rf_results.columns = ['Method', 'Training MSE', 'Training R2', 'Test MSE', 'Test R2']\n",
    "rf_results"
   ]
  },
  {
   "cell_type": "code",
   "execution_count": 74,
   "metadata": {
    "ExecuteTime": {
     "end_time": "2023-07-30T19:28:15.622854500Z",
     "start_time": "2023-07-30T19:28:15.398822100Z"
    }
   },
   "outputs": [
    {
     "data": {
      "text/html": [
       "<div>\n",
       "<style scoped>\n",
       "    .dataframe tbody tr th:only-of-type {\n",
       "        vertical-align: middle;\n",
       "    }\n",
       "\n",
       "    .dataframe tbody tr th {\n",
       "        vertical-align: top;\n",
       "    }\n",
       "\n",
       "    .dataframe thead th {\n",
       "        text-align: right;\n",
       "    }\n",
       "</style>\n",
       "<table border=\"1\" class=\"dataframe\">\n",
       "  <thead>\n",
       "    <tr style=\"text-align: right;\">\n",
       "      <th></th>\n",
       "      <th>Method</th>\n",
       "      <th>Training MSE</th>\n",
       "      <th>Training R2</th>\n",
       "      <th>Test MSE</th>\n",
       "      <th>Test R2</th>\n",
       "    </tr>\n",
       "  </thead>\n",
       "  <tbody>\n",
       "    <tr>\n",
       "      <th>0</th>\n",
       "      <td>Linear Regression</td>\n",
       "      <td>1.007536</td>\n",
       "      <td>0.764505</td>\n",
       "      <td>1.020695</td>\n",
       "      <td>0.789162</td>\n",
       "    </tr>\n",
       "    <tr>\n",
       "      <th>0</th>\n",
       "      <td>Random Forest</td>\n",
       "      <td>1.028228</td>\n",
       "      <td>0.759669</td>\n",
       "      <td>1.407688</td>\n",
       "      <td>0.709223</td>\n",
       "    </tr>\n",
       "  </tbody>\n",
       "</table>\n",
       "</div>"
      ],
      "text/plain": [
       "              Method Training MSE Training R2  Test MSE   Test R2\n",
       "0  Linear Regression     1.007536    0.764505  1.020695  0.789162\n",
       "0      Random Forest     1.028228    0.759669  1.407688  0.709223"
      ]
     },
     "execution_count": 74,
     "metadata": {},
     "output_type": "execute_result"
    }
   ],
   "source": [
    "df_models = pd.concat([lr_results, rf_results], axis=0)\n",
    "df_models"
   ]
  },
  {
   "cell_type": "code",
   "execution_count": null,
   "metadata": {
    "ExecuteTime": {
     "end_time": "2023-07-30T19:28:15.623854100Z",
     "start_time": "2023-07-30T19:28:15.441431400Z"
    }
   },
   "outputs": [],
   "source": []
  },
  {
   "cell_type": "markdown",
   "metadata": {},
   "source": [
    "## Data Visualization of prediction results ##"
   ]
  },
  {
   "cell_type": "code",
   "execution_count": 75,
   "metadata": {
    "ExecuteTime": {
     "end_time": "2023-07-30T19:28:16.078904200Z",
     "start_time": "2023-07-30T19:28:15.454424300Z"
    },
    "scrolled": true
   },
   "outputs": [
    {
     "data": {
      "text/plain": [
       "Text(0.5, 0, 'Experimental LogS')"
      ]
     },
     "execution_count": 75,
     "metadata": {},
     "output_type": "execute_result"
    },
    {
     "data": {
      "image/png": "[encoded data removed]",
      "text/plain": [
       "<Figure size 640x480 with 1 Axes>"
      ]
     },
     "metadata": {},
     "output_type": "display_data"
    }
   ],
   "source": [
    "import matplotlib.pyplot as plt\n",
    "\n",
    "plt.scatter(x=y_train, y=y_lr_train_pred, alpha=0.3)\n",
    "z = np.polyfit(y_train, y_lr_train_pred, 1)\n",
    "p = np.poly1d(z)\n",
    "\n",
    "plt.plot()\n",
    "plt.ylabel('Predict LogS')\n",
    "plt.xlabel('Experimental LogS')"
   ]
  },
  {
   "cell_type": "code",
   "execution_count": null,
   "metadata": {
    "ExecuteTime": {
     "end_time": "2023-07-30T19:28:16.078904200Z",
     "start_time": "2023-07-30T19:28:15.868226100Z"
    }
   },
   "outputs": [],
   "source": [
    "\n",
    "\n",
    "    "
   ]
  },
  {
   "cell_type": "code",
   "execution_count": null,
   "metadata": {},
   "outputs": [],
   "source": []
  }
 ],
 "metadata": {
  "kernelspec": {
   "display_name": "Python 3 (ipykernel)",
   "language": "python",
   "name": "python3"
  },
  "language_info": {
   "codemirror_mode": {
    "name": "ipython",
    "version": 3
   },
   "file_extension": ".py",
   "mimetype": "text/x-python",
   "name": "python",
   "nbconvert_exporter": "python",
   "pygments_lexer": "ipython3",
   "version": "3.9.13"
  }
 },
 "nbformat": 4,
 "nbformat_minor": 4
}
